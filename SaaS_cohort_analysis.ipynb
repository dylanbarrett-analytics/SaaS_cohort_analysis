{
 "cells": [
  {
   "cell_type": "markdown",
   "id": "04e48a9d-e1a4-4d64-8462-2ca2c2a3e763",
   "metadata": {},
   "source": [
    "# User Journey Cohort Analysis (Web Session Data)"
   ]
  },
  {
   "cell_type": "code",
   "execution_count": 195,
   "id": "72ef9a8f-7bf4-4d1d-ae16-f173bcc97eed",
   "metadata": {},
   "outputs": [],
   "source": [
    "# Import libraries\n",
    "import pandas as pd\n",
    "import matplotlib.pyplot as plt\n",
    "import numpy as np\n",
    "import seaborn as sns"
   ]
  },
  {
   "cell_type": "markdown",
   "id": "e68663f6-ecfa-4297-a7bb-7a769b756907",
   "metadata": {},
   "source": [
    "The original raw dataset for this project actually comes from **Google Analytics (BigQuery)**. It tracks website session data across all user visits for an entire year. This dataset is massive, so only 7 columns were extracted from BigQuery to prevent performance issues. They will be imported into this notebook in the following cell."
   ]
  },
  {
   "cell_type": "code",
   "execution_count": 197,
   "id": "86c8563a-d5ad-4f1b-a176-66571ab4b030",
   "metadata": {},
   "outputs": [
    {
     "name": "stderr",
     "output_type": "stream",
     "text": [
      "C:\\Users\\dylan\\AppData\\Local\\Temp\\ipykernel_22068\\316553378.py:2: DtypeWarning: Columns (0) have mixed types. Specify dtype option on import or set low_memory=False.\n",
      "  google = pd.read_csv(\"google_merchandise_raw.csv\")\n"
     ]
    }
   ],
   "source": [
    "# Load data\n",
    "google = pd.read_csv(\"google_merchandise_raw.csv\")"
   ]
  },
  {
   "cell_type": "code",
   "execution_count": 198,
   "id": "7d944ae5-a1ad-4299-bd23-47df57c1dc75",
   "metadata": {},
   "outputs": [
    {
     "name": "stdout",
     "output_type": "stream",
     "text": [
      "         fullVisitorId     visitId  visitStartTime  hitNumber hit_type  \\\n",
      "0  6314382205896179631  1471627397      1471627397          2     PAGE   \n",
      "1  6314382205896179631  1471627397      1471627397          8    EVENT   \n",
      "2  6314382205896179631  1471627397      1471627397         14     PAGE   \n",
      "3  6314382205896179631  1471627397      1471627397         17     PAGE   \n",
      "4  6314382205896179631  1471627397      1471627397         18     PAGE   \n",
      "5  6033983136147159594  1471592928      1471592928          1     PAGE   \n",
      "6  6033983136147159594  1471592928      1471592928         13    EVENT   \n",
      "7  6033983136147159594  1471592928      1471592928         15    EVENT   \n",
      "8  3041133261614133977  1471654466      1471654466          6     PAGE   \n",
      "9  3041133261614133977  1471654466      1471654466          9     PAGE   \n",
      "\n",
      "                      page_path  revenue  \n",
      "0                         /home      NaN  \n",
      "1       /google+redesign/office      NaN  \n",
      "2    /google+redesign/drinkware      NaN  \n",
      "3  /google+redesign/fruit-games      NaN  \n",
      "4         /google+redesign/bags      NaN  \n",
      "5                         /home      NaN  \n",
      "6         /google+redesign/bags      NaN  \n",
      "7         /google+redesign/bags      NaN  \n",
      "8                 /asearch.html      NaN  \n",
      "9    /google+redesign/lifestyle      NaN  \n"
     ]
    }
   ],
   "source": [
    "# Preview the dataset\n",
    "print(google.head(10))"
   ]
  },
  {
   "cell_type": "markdown",
   "id": "54eff1b0-4722-4268-a1bf-316c807d040b",
   "metadata": {},
   "source": [
    "### Initial Data Checks"
   ]
  },
  {
   "cell_type": "code",
   "execution_count": 200,
   "id": "3a63c2d4-a4e0-4944-899d-f5c47346a3db",
   "metadata": {},
   "outputs": [
    {
     "name": "stdout",
     "output_type": "stream",
     "text": [
      "(4153675, 7)\n"
     ]
    }
   ],
   "source": [
    "# Number of rows and columns\n",
    "print(google.shape)"
   ]
  },
  {
   "cell_type": "code",
   "execution_count": 201,
   "id": "7aae007d-a88e-41cb-8222-8cec27f811a2",
   "metadata": {},
   "outputs": [],
   "source": [
    "# Rename columns for clarity\n",
    "google = google.rename(columns={\n",
    "    'fullVisitorId': 'user_id',\n",
    "    'visitId': 'session_id',\n",
    "    'visitStartTime': 'session_start_time',\n",
    "    'hitNumber': 'hit_number'\n",
    "})"
   ]
  },
  {
   "cell_type": "code",
   "execution_count": 202,
   "id": "227788a1-0e72-4246-a003-5a7e18f4c526",
   "metadata": {},
   "outputs": [
    {
     "name": "stdout",
     "output_type": "stream",
     "text": [
      "user_id                object\n",
      "session_id              int64\n",
      "session_start_time      int64\n",
      "hit_number              int64\n",
      "hit_type               object\n",
      "page_path              object\n",
      "revenue               float64\n",
      "dtype: object\n"
     ]
    }
   ],
   "source": [
    "# Check data types\n",
    "print(google.dtypes)"
   ]
  },
  {
   "cell_type": "code",
   "execution_count": 203,
   "id": "721df056-73ec-4e35-aa12-1b18f66d36cd",
   "metadata": {},
   "outputs": [],
   "source": [
    "# Convert `session_start_time` from unix to datetime\n",
    "google['session_start_time'] = pd.to_datetime(google['session_start_time'], unit='s')"
   ]
  },
  {
   "cell_type": "code",
   "execution_count": 204,
   "id": "593c3865-5425-47d5-b196-c4b91addc1e7",
   "metadata": {},
   "outputs": [],
   "source": [
    "# Convert `hit_type` entries to lowercase\n",
    "google['hit_type'] = google['hit_type'].str.lower()"
   ]
  },
  {
   "cell_type": "code",
   "execution_count": 205,
   "id": "96794dee-5bc0-46f1-8a17-21996d6c80f7",
   "metadata": {},
   "outputs": [
    {
     "name": "stdout",
     "output_type": "stream",
     "text": [
      "Number of Unique Users: 843049\n"
     ]
    }
   ],
   "source": [
    "# Number of unique users\n",
    "unique_users = google['user_id'].nunique()\n",
    "print(f'Number of Unique Users: {unique_users}')"
   ]
  },
  {
   "cell_type": "code",
   "execution_count": 206,
   "id": "55b7f88f-e0f3-4c7c-8d4d-8f325943204c",
   "metadata": {},
   "outputs": [
    {
     "name": "stdout",
     "output_type": "stream",
     "text": [
      "Number of Unique Sessions: 886303\n"
     ]
    }
   ],
   "source": [
    "# Number of unique sessions\n",
    "unique_sessions = google['session_id'].nunique()\n",
    "print(f'Number of Unique Sessions: {unique_sessions}')"
   ]
  },
  {
   "cell_type": "code",
   "execution_count": 207,
   "id": "d0420bc1-30d6-41f5-b005-4a6a694a2b61",
   "metadata": {},
   "outputs": [
    {
     "name": "stdout",
     "output_type": "stream",
     "text": [
      "Number of Missing Values (per column): \n",
      "user_id                     0\n",
      "session_id                  0\n",
      "session_start_time          0\n",
      "hit_number                  0\n",
      "hit_type                    0\n",
      "page_path                   0\n",
      "revenue               4141602\n",
      "dtype: int64\n"
     ]
    }
   ],
   "source": [
    "# Missing values by column\n",
    "missing_values = google.isnull().sum()\n",
    "print(f'Number of Missing Values (per column): \\n{missing_values}')"
   ]
  },
  {
   "cell_type": "code",
   "execution_count": 208,
   "id": "0a105148-4d26-4bad-85b7-065e5bb5f8de",
   "metadata": {},
   "outputs": [
    {
     "name": "stdout",
     "output_type": "stream",
     "text": [
      "Number of Duplicate Rows: 0\n"
     ]
    }
   ],
   "source": [
    "# Duplicate rows\n",
    "duplicates = google[google.duplicated()]\n",
    "print(f'Number of Duplicate Rows: {len(duplicates)}')"
   ]
  },
  {
   "cell_type": "code",
   "execution_count": 209,
   "id": "e1910b22-8d62-4204-a5a1-4f0de5c05dbe",
   "metadata": {},
   "outputs": [
    {
     "name": "stdout",
     "output_type": "stream",
     "text": [
      "Date Range: 2016-08-01 07:00:12 thru 2017-08-02 06:59:53\n"
     ]
    }
   ],
   "source": [
    "# Date range\n",
    "start = google['session_start_time'].min()\n",
    "end = google['session_start_time'].max()\n",
    "print(f'Date Range: {start} thru {end}')"
   ]
  },
  {
   "cell_type": "markdown",
   "id": "ddcc57c9-7339-43e5-bd8d-7f98b86bdfbc",
   "metadata": {},
   "source": [
    "### Initial cleaning done... ready for analysis\n",
    "\n",
    "- **Rows:** 4,153,675\n",
    "- **Columns:** 7\n",
    "- **Unique Users:** 843,049\n",
    "- **Unique Sessions:** 886,303\n",
    "- **Missing Values:**\n",
    "  - `revenue`: 4,141,602 🆗\n",
    "- **Duplicate Rows:** 0 ✅\n",
    "- **Date Range:** Aug 1, 2016 - Aug 2, 2017\n",
    "\n",
    "The `revenue` column will **not** be used in this analysis, so these missing values are irrelevant."
   ]
  },
  {
   "cell_type": "markdown",
   "id": "c22e8b06-5452-4e63-be32-1975b1e091a4",
   "metadata": {},
   "source": [
    "# Analysis"
   ]
  },
  {
   "cell_type": "markdown",
   "id": "d6bdc071-daa3-4cc4-bec3-f2d750737674",
   "metadata": {},
   "source": [
    "### Purchase Rate by Path"
   ]
  },
  {
   "cell_type": "code",
   "execution_count": 213,
   "id": "23b4b6d8-ec95-4d35-b1ec-1bca3b5e2c3b",
   "metadata": {},
   "outputs": [],
   "source": [
    "# Build path lists for every session\n",
    "session_paths = (\n",
    "    google.sort_values(['user_id', 'session_id', 'hit_number']).groupby(['user_id', 'session_id'])['page_path'].apply(list).reset_index(name='path')\n",
    ")"
   ]
  },
  {
   "cell_type": "code",
   "execution_count": 214,
   "id": "d1092059-c7ae-4663-8f75-b041b7e17f7f",
   "metadata": {},
   "outputs": [],
   "source": [
    "# Convert lists to strings\n",
    "session_paths['path_strings'] = session_paths['path'].apply(lambda x: ' / '.join(x))"
   ]
  },
  {
   "cell_type": "code",
   "execution_count": 215,
   "id": "33bffe81-0299-4f61-97c5-69c70fcc7937",
   "metadata": {},
   "outputs": [
    {
     "name": "stdout",
     "output_type": "stream",
     "text": [
      "Number of Unique Paths: 247879\n"
     ]
    }
   ],
   "source": [
    "# Number of unique paths\n",
    "unique_path_count = session_paths['path_strings'].nunique()\n",
    "print(f'Number of Unique Paths: {unique_path_count}')"
   ]
  },
  {
   "cell_type": "code",
   "execution_count": 216,
   "id": "a8ffc6f2-1f96-4eb5-ab10-dc452af73d59",
   "metadata": {},
   "outputs": [
    {
     "name": "stdout",
     "output_type": "stream",
     "text": [
      "path_strings\n",
      "/home                                              345888\n",
      "/home / /home                                       62844\n",
      "/google+redesign/shop+by+brand/youtube              52290\n",
      "/google+redesign/apparel/men++s/men++s+t+shirts     10917\n",
      "/signin.html                                         8851\n",
      "/home / /google+redesign/shop+by+brand/youtube       8426\n",
      "/home / /home / /home                                8380\n",
      "/google+redesign/apparel/mens/mens+t+shirts          7666\n",
      "/basket.html                                         5793\n",
      "/google+redesign/drinkware                           5738\n",
      "Name: count, dtype: int64\n"
     ]
    }
   ],
   "source": [
    "# Top 10 paths taken\n",
    "top_paths = session_paths['path_strings'].value_counts().head(10)\n",
    "print(top_paths)"
   ]
  },
  {
   "cell_type": "code",
   "execution_count": 217,
   "id": "9b56fe88-ca05-48c9-9bdd-d0ce37c45dec",
   "metadata": {},
   "outputs": [],
   "source": [
    "# Path frequency\n",
    "path_frequency = session_paths['path_strings'].value_counts().reset_index()\n",
    "path_frequency.columns = ['path', 'frequency']"
   ]
  },
  {
   "cell_type": "code",
   "execution_count": 218,
   "id": "d34b8e0e-9094-4c6b-8baa-4189b5da0749",
   "metadata": {},
   "outputs": [],
   "source": [
    "# Set a 'purchased' flag... either 'purchase' or 'no purchase'\n",
    "purchased = google.groupby(['user_id', 'session_id'])['revenue'].max().notnull().astype(int).reset_index(name='purchased')"
   ]
  },
  {
   "cell_type": "code",
   "execution_count": 219,
   "id": "d4673db3-be02-4b83-8b2b-38358e8b5bbd",
   "metadata": {},
   "outputs": [],
   "source": [
    "# Merge with session_paths df\n",
    "paths_with_purchase = session_paths.merge(purchased, on=['user_id', 'session_id'])"
   ]
  },
  {
   "cell_type": "code",
   "execution_count": 220,
   "id": "23f2e603-8f4c-4cca-8fe4-b46536bb73d0",
   "metadata": {},
   "outputs": [],
   "source": [
    "# Find purchase rate for every path\n",
    "path_stats = (\n",
    "    paths_with_purchase.groupby('path_strings').agg(\n",
    "        frequency=('path_strings', 'size'), purchases=('purchased', 'sum')).assign(\n",
    "            purchase_rate=lambda df: df['purchases'] / df['frequency']\n",
    "    ).reset_index()\n",
    ")"
   ]
  },
  {
   "cell_type": "code",
   "execution_count": 221,
   "id": "4d96929b-2c70-4115-a822-8295165c47a7",
   "metadata": {},
   "outputs": [
    {
     "name": "stdout",
     "output_type": "stream",
     "text": [
      "                                             path_strings  frequency  \\\n",
      "135310  /home / /google+redesign/apparel/mens/mens+t+s...          1   \n",
      "150944  /home / /google+redesign/bags/water+bottles+an...          1   \n",
      "136333  /home / /google+redesign/apparel/mens/mens+t+s...          1   \n",
      "101288  /google+redesign/shop+by+brand/youtube / /goog...          1   \n",
      "206662  /home / /home / /google+redesign/office / /sto...          1   \n",
      "220446  /home / /home / /home / /google+redesign/shop+...          1   \n",
      "101295  /google+redesign/shop+by+brand/youtube / /goog...          1   \n",
      "236640  /home-2 / /google+redesign/apparel/women+s / /...          1   \n",
      "12377   /google+redesign/accessories/stickers/home / /...          1   \n",
      "236639  /home-2 / /google+redesign/apparel/women+s / /...          1   \n",
      "\n",
      "        purchases  purchase_rate  \n",
      "135310          1            1.0  \n",
      "150944          1            1.0  \n",
      "136333          1            1.0  \n",
      "101288          1            1.0  \n",
      "206662          1            1.0  \n",
      "220446          1            1.0  \n",
      "101295          1            1.0  \n",
      "236640          1            1.0  \n",
      "12377           1            1.0  \n",
      "236639          1            1.0  \n"
     ]
    }
   ],
   "source": [
    "# Display top 10 paths according to purchase rate\n",
    "print(path_stats.sort_values('purchase_rate', ascending=False).head(10))"
   ]
  },
  {
   "cell_type": "markdown",
   "id": "0afca75e-6744-47e1-8b67-e930df72f7c3",
   "metadata": {},
   "source": [
    "**Note:** Overall, purchases are rare. The vast majority of paths are simply browsing and searching, etc. Therefore, only paths with **at least 1 purchase** will be explored next."
   ]
  },
  {
   "cell_type": "code",
   "execution_count": 223,
   "id": "78460613-4fd2-4fe3-8177-ebe3558dfa32",
   "metadata": {},
   "outputs": [],
   "source": [
    "# Filter for paths with at least 1 purchase\n",
    "purchases_only = path_stats[path_stats['purchases'] >= 1].sort_values('purchases', ascending=False)"
   ]
  },
  {
   "cell_type": "code",
   "execution_count": 224,
   "id": "d9fcb2f0-c8c2-4c01-9082-eb161c09a6b6",
   "metadata": {},
   "outputs": [
    {
     "name": "stdout",
     "output_type": "stream",
     "text": [
      "                                             path_strings  frequency  \\\n",
      "239499                               /ordercompleted.html         23   \n",
      "109691  /home / /basket.html / /yourinfo.html / /payme...          7   \n",
      "230334                       /home / /ordercompleted.html         10   \n",
      "4866    /basket.html / /payment.html / /ordercompleted...          9   \n",
      "247851  /yourinfo.html / /payment.html / /revieworder....          5   \n",
      "239520               /payment.html / /ordercompleted.html          6   \n",
      "4856                  /basket.html / /ordercompleted.html         12   \n",
      "5083    /basket.html / /signin.html / /basket.html / /...          4   \n",
      "239906           /revieworder.html / /ordercompleted.html          9   \n",
      "147452  /home / /google+redesign/bags/backpacks/home /...          3   \n",
      "\n",
      "        purchases  purchase_rate  \n",
      "239499         11       0.478261  \n",
      "109691          7       1.000000  \n",
      "230334          6       0.600000  \n",
      "4866            5       0.555556  \n",
      "247851          5       1.000000  \n",
      "239520          4       0.666667  \n",
      "4856            4       0.333333  \n",
      "5083            4       1.000000  \n",
      "239906          4       0.444444  \n",
      "147452          3       1.000000  \n"
     ]
    }
   ],
   "source": [
    "# Preview paths with at least 1 purchase\n",
    "print(purchases_only.head(10))"
   ]
  },
  {
   "cell_type": "markdown",
   "id": "076d42b8-afd4-46aa-8050-93aacbe67b54",
   "metadata": {},
   "source": [
    "### Purchase Rate by Path Length"
   ]
  },
  {
   "cell_type": "code",
   "execution_count": 226,
   "id": "b7af6151-ae68-4b12-a446-0bb5eda80e8f",
   "metadata": {},
   "outputs": [],
   "source": [
    "# Calculate path length for every session\n",
    "session_paths['path_length'] = session_paths['path'].apply(len)"
   ]
  },
  {
   "cell_type": "code",
   "execution_count": 227,
   "id": "611b28ed-514f-421e-a06b-842cfdcca09e",
   "metadata": {},
   "outputs": [],
   "source": [
    "# Merge with 'purchased' flag\n",
    "session_paths = session_paths.merge(purchased, on=['user_id', 'session_id'])"
   ]
  },
  {
   "cell_type": "code",
   "execution_count": 228,
   "id": "9e334690-44f5-4de4-a7e5-d6c698d5efb4",
   "metadata": {},
   "outputs": [
    {
     "name": "stdout",
     "output_type": "stream",
     "text": [
      "path_length\n",
      "1      538370\n",
      "2      162924\n",
      "3       81559\n",
      "4       50014\n",
      "5       35784\n",
      "        ...  \n",
      "436         1\n",
      "437         1\n",
      "471         1\n",
      "483         1\n",
      "500         4\n",
      "Name: count, Length: 265, dtype: int64\n"
     ]
    }
   ],
   "source": [
    "# Path length value counts\n",
    "print(session_paths['path_length'].value_counts().sort_index())"
   ]
  },
  {
   "cell_type": "code",
   "execution_count": 229,
   "id": "3bb0e642-fdc7-495c-a597-d3adcaf06f4e",
   "metadata": {},
   "outputs": [
    {
     "data": {
      "image/png": "[encoded data removed]",
      "text/plain": [
       "<Figure size 1000x500 with 1 Axes>"
      ]
     },
     "metadata": {},
     "output_type": "display_data"
    }
   ],
   "source": [
    "# Histogram ^\n",
    "\n",
    "plt.figure(figsize=(10,5))\n",
    "plt.hist(session_paths['path_length'], bins=range(1, session_paths['path_length'].max()+2), edgecolor='cyan')\n",
    "plt.title('Distribution of Path Lengths')\n",
    "plt.xlabel('Path Length (Number of Steps)')\n",
    "plt.ylabel('Number of Sessions')\n",
    "plt.yscale('log')\n",
    "plt.show()"
   ]
  },
  {
   "cell_type": "markdown",
   "id": "715d39e4-7201-44f1-92f5-44e1da345028",
   "metadata": {},
   "source": [
    "**Note:** A **log scale** was applied to the y-axis here because as path length (number of steps) increases, the number of sessions has an extreme drop off. Most y-axis values are quite small, so the *very few* large y-axis values would dominate this histogram without the log application."
   ]
  },
  {
   "cell_type": "code",
   "execution_count": 231,
   "id": "96827fa4-c463-495d-8c63-047acd7b6c83",
   "metadata": {},
   "outputs": [],
   "source": [
    "# Put all path lengths into buckets\n",
    "bins = [1, 2, 3, 4, 6, 11, 21, 51, session_paths['path_length'].max() + 1]\n",
    "labels = ['1', '2', '3', '4-5', '6-10', '11-20', '21-50', '51+']\n",
    "\n",
    "# New buckets column\n",
    "session_paths['path_length_bucket'] = pd.cut(session_paths['path_length'], bins=bins, labels=labels, right=False)"
   ]
  },
  {
   "cell_type": "code",
   "execution_count": 232,
   "id": "41a8699c-67f2-497e-ae01-79c5b3a586b9",
   "metadata": {},
   "outputs": [
    {
     "name": "stderr",
     "output_type": "stream",
     "text": [
      "C:\\Users\\dylan\\AppData\\Local\\Temp\\ipykernel_22068\\4212334518.py:3: FutureWarning: The default of observed=False is deprecated and will be changed to True in a future version of pandas. Pass observed=False to retain current behavior or observed=True to adopt the future default and silence this warning.\n",
      "  session_paths.groupby('path_length_bucket').agg(\n"
     ]
    }
   ],
   "source": [
    "# Calculate purchase rate by bucket\n",
    "purchase_by_bucket = (\n",
    "    session_paths.groupby('path_length_bucket').agg(\n",
    "        sessions=('path_length', 'count'), purchases=('purchased', 'sum')).assign(\n",
    "        purchase_rate=lambda x: x['purchases'] / x['sessions']).reset_index()\n",
    ")"
   ]
  },
  {
   "cell_type": "code",
   "execution_count": 233,
   "id": "e990b61f-d399-45fa-a148-3a2c35c3d81e",
   "metadata": {},
   "outputs": [],
   "source": [
    "# Find % of total purchases\n",
    "total_purchases = purchase_by_bucket['purchases'].sum()\n",
    "\n",
    "purchase_by_bucket['pct_of_total_purchases'] = (purchase_by_bucket['purchases'] / total_purchases * 100).round(2)"
   ]
  },
  {
   "cell_type": "code",
   "execution_count": 234,
   "id": "601e4d1f-3960-428f-999d-2e5e875cd18d",
   "metadata": {},
   "outputs": [
    {
     "name": "stdout",
     "output_type": "stream",
     "text": [
      "  path_length_bucket  sessions  purchases  purchase_rate  \\\n",
      "0                  1    538370         11       0.000020   \n",
      "1                  2    162924         38       0.000233   \n",
      "2                  3     81559         88       0.001079   \n",
      "3                4-5     85798        263       0.003065   \n",
      "4               6-10     88668       1083       0.012214   \n",
      "5              11-20     53233       3605       0.067721   \n",
      "6              21-50     27202       4867       0.178921   \n",
      "7                51+      5265       1638       0.311111   \n",
      "\n",
      "   pct_of_total_purchases  \n",
      "0                    0.09  \n",
      "1                    0.33  \n",
      "2                    0.76  \n",
      "3                    2.27  \n",
      "4                    9.34  \n",
      "5                   31.10  \n",
      "6                   41.98  \n",
      "7                   14.13  \n"
     ]
    },
    {
     "data": {
      "image/png": "[encoded data removed]",
      "text/plain": [
       "<Figure size 800x500 with 1 Axes>"
      ]
     },
     "metadata": {},
     "output_type": "display_data"
    }
   ],
   "source": [
    "# Display purchase rate by bucket\n",
    "print(purchase_by_bucket)\n",
    "\n",
    "# Plot results\n",
    "plt.figure(figsize=(8,5))\n",
    "plt.bar(purchase_by_bucket['path_length_bucket'], purchase_by_bucket['purchase_rate'])\n",
    "plt.title('Purchase Rate by Path Length Bucket')\n",
    "plt.xlabel('Path Length Bucket')\n",
    "plt.ylabel('Purchase Rate')\n",
    "plt.ylim(0, purchase_by_bucket['purchase_rate'].max() * 1.1)  # adjusted scale\n",
    "plt.grid(axis='y')\n",
    "plt.show()"
   ]
  },
  {
   "cell_type": "markdown",
   "id": "f1148448-eda9-4e49-856a-71906ac162d9",
   "metadata": {},
   "source": [
    "**Results:** Sessions with **more steps** (i.e., longer user journeys) are far more likely to **result in a purchase** than shorter sessions."
   ]
  },
  {
   "cell_type": "markdown",
   "id": "32bc60e3-fc9c-47d0-8bd7-69bc84468d6d",
   "metadata": {},
   "source": [
    "### Drop-Off % at Each Step"
   ]
  },
  {
   "cell_type": "code",
   "execution_count": 237,
   "id": "fc8d7e11-6316-4d46-a476-0d65a511e87b",
   "metadata": {},
   "outputs": [],
   "source": [
    "# Calculate number of sessions that reach each step number (i.e., Step 1, Step 2, ...), generally speaking\n",
    "session_lengths = session_paths['path_length']\n",
    "max_length = session_lengths.max()"
   ]
  },
  {
   "cell_type": "code",
   "execution_count": 238,
   "id": "47e93fd1-4db0-4add-ba09-bcc5074c3f44",
   "metadata": {},
   "outputs": [],
   "source": [
    "# For each step n, count number of sessions that made it to step n or further\n",
    "sessions_at_least_n = [(session_lengths >= n).sum() for n in range(1, max_length + 1)]"
   ]
  },
  {
   "cell_type": "code",
   "execution_count": 239,
   "id": "68a02686-6f71-4caa-a725-bb56102f6d59",
   "metadata": {},
   "outputs": [],
   "source": [
    "# Calculate drop-off percentage between steps\n",
    "dropoff_pct = [\n",
    "    1 - (sessions_at_least_n[n] / sessions_at_least_n[n-1]) if n > 0 else 0 for n in range(len(sessions_at_least_n))\n",
    "]"
   ]
  },
  {
   "cell_type": "code",
   "execution_count": 240,
   "id": "4d05972e-dc5d-4b0a-8467-aa0b03b6ff68",
   "metadata": {},
   "outputs": [],
   "source": [
    "# Create DataFrame\n",
    "step_dropoff = pd.DataFrame({\n",
    "    'step_number': range(1, len(sessions_at_least_n) + 1),\n",
    "    'sessions_remaining': sessions_at_least_n,\n",
    "    'dropoff_pct': dropoff_pct\n",
    "})"
   ]
  },
  {
   "cell_type": "code",
   "execution_count": 241,
   "id": "8cd848be-79d3-4e19-b1c4-b6fc60cdda3e",
   "metadata": {},
   "outputs": [
    {
     "name": "stdout",
     "output_type": "stream",
     "text": [
      "    step_number  sessions_remaining  dropoff_pct\n",
      "0             1             1043019     0.000000\n",
      "1             2              504649     0.516165\n",
      "2             3              341725     0.322846\n",
      "3             4              260166     0.238669\n",
      "4             5              210152     0.192239\n",
      "5             6              174368     0.170277\n",
      "6             7              147629     0.153348\n",
      "7             8              126773     0.141273\n",
      "8             9              110285     0.130059\n",
      "9            10               96714     0.123054\n",
      "10           11               85700     0.113882\n",
      "11           12               76283     0.109883\n",
      "12           13               68353     0.103955\n",
      "13           14               61578     0.099118\n",
      "14           15               55575     0.097486\n",
      "15           16               50318     0.094593\n",
      "16           17               45851     0.088775\n",
      "17           18               41830     0.087697\n",
      "18           19               38387     0.082309\n",
      "19           20               35281     0.080913\n"
     ]
    },
    {
     "data": {
      "image/png": "[encoded data removed]",
      "text/plain": [
       "<Figure size 1000x600 with 1 Axes>"
      ]
     },
     "metadata": {},
     "output_type": "display_data"
    }
   ],
   "source": [
    "# Preview drop-off % at each step... first 20 steps\n",
    "print(step_dropoff.head(20))\n",
    "\n",
    "# Plot results for all steps\n",
    "plt.figure(figsize=(10,6))\n",
    "plt.plot(step_dropoff['step_number'], step_dropoff['sessions_remaining'], marker='o')\n",
    "plt.title('User Survival Curve: Sessions Remaining at Each Step')\n",
    "plt.xlabel('Step Number')\n",
    "plt.ylabel(\"Sessions That Haven't Ended Yet\")\n",
    "plt.yscale('log')\n",
    "plt.grid(True, which='both', axis='y', linestyle='--', linewidth=0.5)\n",
    "plt.tight_layout()\n",
    "plt.show()"
   ]
  },
  {
   "cell_type": "markdown",
   "id": "31e6c298-80bf-4045-b417-7da50b3833ec",
   "metadata": {},
   "source": [
    "**Note:** A **log scale** was applied to the y-axis here because most y-axis values are small. The *very few* large y-axis values would dominate this plot without the log application.\n",
    "\n",
    "**Results:** **Over 50%** of **user sessions** conclude at the end of step 1. Most user sessions are rather short. Extended user sessions are relatively rare, but as seen in Purchase Rate by Pair Length Bucket, the **longer** a session, the more likely it will **result in a purchase**."
   ]
  },
  {
   "cell_type": "markdown",
   "id": "101dc89d-5133-4511-aecb-d1c43859fad1",
   "metadata": {},
   "source": [
    "### Cohort Analysis... additional columns import from BigQuery"
   ]
  },
  {
   "cell_type": "markdown",
   "id": "1459025f-7a73-4eac-a624-fc299d1424ae",
   "metadata": {},
   "source": [
    "After the initial export to Tableau, the \"big picture\" analysis fell short, in my opinion. Therefore, 4 new columns were extracted (plus the primary key column) from the raw dataset in BigQuery. This slices the notebook's primary dataset into **4 separate cohorts** based on **how users accessed the site**. The import will take place in the next cell below."
   ]
  },
  {
   "cell_type": "code",
   "execution_count": 245,
   "id": "c276f2a6-02e6-4eda-a579-861e1c9cd2b1",
   "metadata": {},
   "outputs": [],
   "source": [
    "# Load data\n",
    "google_2 = pd.read_csv(\"google_merchandise_cohort_columns.csv\")"
   ]
  },
  {
   "cell_type": "code",
   "execution_count": 246,
   "id": "64228c63-3062-43c9-8d03-e72edb3cd7cf",
   "metadata": {},
   "outputs": [],
   "source": [
    "# Rename columns for clarity\n",
    "google_2 = google_2.rename(columns={\n",
    "    'visitId': 'session_id',\n",
    "    'pagePath': 'page_path',\n",
    "    'pagePathLevel1': 'page_path_entry'\n",
    "})  "
   ]
  },
  {
   "cell_type": "code",
   "execution_count": 247,
   "id": "0c7b240b-2479-4150-bbeb-d1f5930c455d",
   "metadata": {},
   "outputs": [],
   "source": [
    "# Remove duplicate rows\n",
    "google_2_entry = google_2.drop_duplicates(subset='session_id', keep='first')"
   ]
  },
  {
   "cell_type": "code",
   "execution_count": 248,
   "id": "ddeb3226-9457-4756-a41b-e28aa32636da",
   "metadata": {},
   "outputs": [],
   "source": [
    "# Merge with session_paths (session-level data already here in the Jupyter notebook)\n",
    "final_merge = session_paths.merge(google_2_entry, on='session_id', how='left')"
   ]
  },
  {
   "cell_type": "code",
   "execution_count": 249,
   "id": "ac96098b-7193-48af-b8e0-3afcf6549be4",
   "metadata": {},
   "outputs": [
    {
     "data": {
      "text/html": [
       "<div>\n",
       "<style scoped>\n",
       "    .dataframe tbody tr th:only-of-type {\n",
       "        vertical-align: middle;\n",
       "    }\n",
       "\n",
       "    .dataframe tbody tr th {\n",
       "        vertical-align: top;\n",
       "    }\n",
       "\n",
       "    .dataframe thead th {\n",
       "        text-align: right;\n",
       "    }\n",
       "</style>\n",
       "<table border=\"1\" class=\"dataframe\">\n",
       "  <thead>\n",
       "    <tr style=\"text-align: right;\">\n",
       "      <th></th>\n",
       "      <th>user_id</th>\n",
       "      <th>session_id</th>\n",
       "      <th>path</th>\n",
       "      <th>path_strings</th>\n",
       "      <th>path_length</th>\n",
       "      <th>purchased</th>\n",
       "      <th>path_length_bucket</th>\n",
       "      <th>source</th>\n",
       "      <th>medium</th>\n",
       "      <th>page_path</th>\n",
       "      <th>page_path_entry</th>\n",
       "    </tr>\n",
       "  </thead>\n",
       "  <tbody>\n",
       "    <tr>\n",
       "      <th>0</th>\n",
       "      <td>4823595352351</td>\n",
       "      <td>1478011510</td>\n",
       "      <td>[/home]</td>\n",
       "      <td>/home</td>\n",
       "      <td>1</td>\n",
       "      <td>0</td>\n",
       "      <td>1</td>\n",
       "      <td>baidu</td>\n",
       "      <td>organic</td>\n",
       "      <td>/home</td>\n",
       "      <td>/home</td>\n",
       "    </tr>\n",
       "    <tr>\n",
       "      <th>1</th>\n",
       "      <td>5103959234087</td>\n",
       "      <td>1471817208</td>\n",
       "      <td>[/home, /home, /google+redesign/fruit-games, /...</td>\n",
       "      <td>/home / /home / /google+redesign/fruit-games /...</td>\n",
       "      <td>10</td>\n",
       "      <td>0</td>\n",
       "      <td>6-10</td>\n",
       "      <td>google</td>\n",
       "      <td>organic</td>\n",
       "      <td>/home</td>\n",
       "      <td>/home</td>\n",
       "    </tr>\n",
       "    <tr>\n",
       "      <th>2</th>\n",
       "      <td>10278554503158</td>\n",
       "      <td>1477029466</td>\n",
       "      <td>[/home, /google+redesign/electronics/power, /g...</td>\n",
       "      <td>/home / /google+redesign/electronics/power / /...</td>\n",
       "      <td>11</td>\n",
       "      <td>0</td>\n",
       "      <td>11-20</td>\n",
       "      <td>google</td>\n",
       "      <td>organic</td>\n",
       "      <td>/home</td>\n",
       "      <td>/home</td>\n",
       "    </tr>\n",
       "    <tr>\n",
       "      <th>3</th>\n",
       "      <td>20424342248747</td>\n",
       "      <td>1480578901</td>\n",
       "      <td>[/home, /home, /home, /google+redesign/shop+by...</td>\n",
       "      <td>/home / /home / /home / /google+redesign/shop+...</td>\n",
       "      <td>17</td>\n",
       "      <td>0</td>\n",
       "      <td>11-20</td>\n",
       "      <td>(direct)</td>\n",
       "      <td>(none)</td>\n",
       "      <td>/home</td>\n",
       "      <td>/home</td>\n",
       "    </tr>\n",
       "    <tr>\n",
       "      <th>4</th>\n",
       "      <td>26722803385797</td>\n",
       "      <td>1496658394</td>\n",
       "      <td>[/google+redesign/shop+by+brand/youtube, /goog...</td>\n",
       "      <td>/google+redesign/shop+by+brand/youtube / /goog...</td>\n",
       "      <td>2</td>\n",
       "      <td>0</td>\n",
       "      <td>2</td>\n",
       "      <td>google</td>\n",
       "      <td>organic</td>\n",
       "      <td>/google+redesign/shop+by+brand/youtube</td>\n",
       "      <td>/google+redesign/</td>\n",
       "    </tr>\n",
       "    <tr>\n",
       "      <th>5</th>\n",
       "      <td>27376579751715</td>\n",
       "      <td>1486866293</td>\n",
       "      <td>[/home, /google+redesign/shop+by+brand/google,...</td>\n",
       "      <td>/home / /google+redesign/shop+by+brand/google ...</td>\n",
       "      <td>5</td>\n",
       "      <td>0</td>\n",
       "      <td>4-5</td>\n",
       "      <td>(direct)</td>\n",
       "      <td>(none)</td>\n",
       "      <td>/home</td>\n",
       "      <td>/home</td>\n",
       "    </tr>\n",
       "    <tr>\n",
       "      <th>6</th>\n",
       "      <td>35794135966385</td>\n",
       "      <td>1484916385</td>\n",
       "      <td>[/home]</td>\n",
       "      <td>/home</td>\n",
       "      <td>1</td>\n",
       "      <td>0</td>\n",
       "      <td>1</td>\n",
       "      <td>(direct)</td>\n",
       "      <td>(none)</td>\n",
       "      <td>/home</td>\n",
       "      <td>/home</td>\n",
       "    </tr>\n",
       "    <tr>\n",
       "      <th>7</th>\n",
       "      <td>39460501403861</td>\n",
       "      <td>1490629516</td>\n",
       "      <td>[/home, /home]</td>\n",
       "      <td>/home / /home</td>\n",
       "      <td>2</td>\n",
       "      <td>0</td>\n",
       "      <td>2</td>\n",
       "      <td>youtube.com</td>\n",
       "      <td>referral</td>\n",
       "      <td>/home</td>\n",
       "      <td>/home</td>\n",
       "    </tr>\n",
       "    <tr>\n",
       "      <th>8</th>\n",
       "      <td>40862739425590</td>\n",
       "      <td>1486836571</td>\n",
       "      <td>[/home]</td>\n",
       "      <td>/home</td>\n",
       "      <td>1</td>\n",
       "      <td>0</td>\n",
       "      <td>1</td>\n",
       "      <td>(direct)</td>\n",
       "      <td>(none)</td>\n",
       "      <td>/google redesign/apparel/men s/men s t shirts</td>\n",
       "      <td>/google redesign/</td>\n",
       "    </tr>\n",
       "    <tr>\n",
       "      <th>9</th>\n",
       "      <td>40862739425590</td>\n",
       "      <td>1486838824</td>\n",
       "      <td>[/store.html, /google+redesign/apparel/kid+s/k...</td>\n",
       "      <td>/store.html / /google+redesign/apparel/kid+s/k...</td>\n",
       "      <td>2</td>\n",
       "      <td>0</td>\n",
       "      <td>2</td>\n",
       "      <td>(direct)</td>\n",
       "      <td>(none)</td>\n",
       "      <td>/google+redesign/apparel/men++s/men++s+outerwear</td>\n",
       "      <td>/google+redesign/</td>\n",
       "    </tr>\n",
       "  </tbody>\n",
       "</table>\n",
       "</div>"
      ],
      "text/plain": [
       "          user_id  session_id  \\\n",
       "0   4823595352351  1478011510   \n",
       "1   5103959234087  1471817208   \n",
       "2  10278554503158  1477029466   \n",
       "3  20424342248747  1480578901   \n",
       "4  26722803385797  1496658394   \n",
       "5  27376579751715  1486866293   \n",
       "6  35794135966385  1484916385   \n",
       "7  39460501403861  1490629516   \n",
       "8  40862739425590  1486836571   \n",
       "9  40862739425590  1486838824   \n",
       "\n",
       "                                                path  \\\n",
       "0                                            [/home]   \n",
       "1  [/home, /home, /google+redesign/fruit-games, /...   \n",
       "2  [/home, /google+redesign/electronics/power, /g...   \n",
       "3  [/home, /home, /home, /google+redesign/shop+by...   \n",
       "4  [/google+redesign/shop+by+brand/youtube, /goog...   \n",
       "5  [/home, /google+redesign/shop+by+brand/google,...   \n",
       "6                                            [/home]   \n",
       "7                                     [/home, /home]   \n",
       "8                                            [/home]   \n",
       "9  [/store.html, /google+redesign/apparel/kid+s/k...   \n",
       "\n",
       "                                        path_strings  path_length  purchased  \\\n",
       "0                                              /home            1          0   \n",
       "1  /home / /home / /google+redesign/fruit-games /...           10          0   \n",
       "2  /home / /google+redesign/electronics/power / /...           11          0   \n",
       "3  /home / /home / /home / /google+redesign/shop+...           17          0   \n",
       "4  /google+redesign/shop+by+brand/youtube / /goog...            2          0   \n",
       "5  /home / /google+redesign/shop+by+brand/google ...            5          0   \n",
       "6                                              /home            1          0   \n",
       "7                                      /home / /home            2          0   \n",
       "8                                              /home            1          0   \n",
       "9  /store.html / /google+redesign/apparel/kid+s/k...            2          0   \n",
       "\n",
       "  path_length_bucket       source    medium  \\\n",
       "0                  1        baidu   organic   \n",
       "1               6-10       google   organic   \n",
       "2              11-20       google   organic   \n",
       "3              11-20     (direct)    (none)   \n",
       "4                  2       google   organic   \n",
       "5                4-5     (direct)    (none)   \n",
       "6                  1     (direct)    (none)   \n",
       "7                  2  youtube.com  referral   \n",
       "8                  1     (direct)    (none)   \n",
       "9                  2     (direct)    (none)   \n",
       "\n",
       "                                          page_path    page_path_entry  \n",
       "0                                             /home              /home  \n",
       "1                                             /home              /home  \n",
       "2                                             /home              /home  \n",
       "3                                             /home              /home  \n",
       "4            /google+redesign/shop+by+brand/youtube  /google+redesign/  \n",
       "5                                             /home              /home  \n",
       "6                                             /home              /home  \n",
       "7                                             /home              /home  \n",
       "8     /google redesign/apparel/men s/men s t shirts  /google redesign/  \n",
       "9  /google+redesign/apparel/men++s/men++s+outerwear  /google+redesign/  "
      ]
     },
     "execution_count": 249,
     "metadata": {},
     "output_type": "execute_result"
    }
   ],
   "source": [
    "# Preview final merged dataset\n",
    "final_merge.head(10)"
   ]
  },
  {
   "cell_type": "code",
   "execution_count": 250,
   "id": "23b12c1e-6d46-4b6d-8e59-91fab18f902f",
   "metadata": {},
   "outputs": [
    {
     "name": "stdout",
     "output_type": "stream",
     "text": [
      "(1043019, 11)\n"
     ]
    }
   ],
   "source": [
    "# Number of rows and columns\n",
    "print(final_merge.shape)"
   ]
  },
  {
   "cell_type": "code",
   "execution_count": 251,
   "id": "78acf877-31ef-42c0-af95-83ce87fa3fd2",
   "metadata": {},
   "outputs": [
    {
     "name": "stdout",
     "output_type": "stream",
     "text": [
      "Number of Unique Sessions: 886303\n"
     ]
    }
   ],
   "source": [
    "# Confirm number of unique sessions\n",
    "unique_sessions_final = final_merge['session_id'].nunique()\n",
    "print(f'Number of Unique Sessions: {unique_sessions}')"
   ]
  },
  {
   "cell_type": "markdown",
   "id": "05b4aa22-8b02-4f4c-88ec-adef65cc0539",
   "metadata": {},
   "source": [
    "### Purchase Rate by Traffic Source"
   ]
  },
  {
   "cell_type": "code",
   "execution_count": 253,
   "id": "99a5e844-f07d-4bce-94a9-bf22ceb6d9c7",
   "metadata": {},
   "outputs": [],
   "source": [
    "# Calculate purchase rate by traffic source\n",
    "purchase_by_source = (\n",
    "    final_merge.groupby('source').agg(\n",
    "        sessions=('session_id', 'count'), purchases=('purchased', 'sum')).assign(\n",
    "        purchase_rate=lambda x: x['purchases'] / x['sessions']).reset_index()\n",
    ")"
   ]
  },
  {
   "cell_type": "code",
   "execution_count": 254,
   "id": "82662877-2acf-4850-94b6-12cc20bda776",
   "metadata": {},
   "outputs": [
    {
     "name": "stdout",
     "output_type": "stream",
     "text": [
      "count        275\n",
      "mean       3,793\n",
      "std       34,453\n",
      "min            1\n",
      "25%            2\n",
      "50%            6\n",
      "75%           36\n",
      "max      445,736\n",
      "Name: sessions, dtype: object\n"
     ]
    }
   ],
   "source": [
    "# Summary stats for number of sessions\n",
    "summary = purchase_by_source['sessions'].describe()\n",
    "print(summary.apply(lambda x: f'{x:,.0f}'))"
   ]
  },
  {
   "cell_type": "code",
   "execution_count": 255,
   "id": "a7309aa1-51d8-4c41-94e9-774dfd4aab83",
   "metadata": {},
   "outputs": [
    {
     "name": "stdout",
     "output_type": "stream",
     "text": [
      "                        source  sessions  purchases  purchase_rate\n",
      "50               dealspotr.com       643         40       0.062208\n",
      "179            mail.google.com      1814         64       0.035281\n",
      "128          groups.google.com      1262         39       0.030903\n",
      "42   connect.googleforwork.com       122          3       0.024590\n",
      "209              phandroid.com       269          6       0.022305\n",
      "0                     (direct)    445736       8776       0.019689\n",
      "53                         dfa      6858        121       0.017644\n",
      "159             l.facebook.com       939         16       0.017039\n",
      "271                      yahoo      1772         23       0.012980\n",
      "13                         ask       315          4       0.012698\n",
      "237           sites.google.com      3653         45       0.012319\n",
      "21                        bing      1848         21       0.011364\n",
      "207           outlook.live.com       103          1       0.009709\n",
      "211            plus.google.com       626          6       0.009585\n",
      "77                      google    283315       2318       0.008182\n",
      "64                facebook.com      2761         22       0.007968\n",
      "234           seroundtable.com       149          1       0.006711\n",
      "57              duckduckgo.com       238          1       0.004202\n",
      "246                       t.co      1687          7       0.004149\n",
      "236    siliconvalley.about.com      2600          8       0.003077\n"
     ]
    }
   ],
   "source": [
    "# Filter for top 20 traffic sources with 100+ sessions\n",
    "purchase_by_source_filtered = purchase_by_source[purchase_by_source['sessions'] >= 100]\n",
    "\n",
    "# Display top 20 traffic sources by purchase rate\n",
    "print(purchase_by_source_filtered.sort_values('purchase_rate', ascending=False).head(20))"
   ]
  },
  {
   "cell_type": "markdown",
   "id": "e1f2bee6-635c-4e12-b850-ae00fbf9cb17",
   "metadata": {},
   "source": [
    "### Purchase Rate by Traffic Medium"
   ]
  },
  {
   "cell_type": "code",
   "execution_count": 257,
   "id": "a5d47628-eaf2-4be1-bd38-07745aa0b955",
   "metadata": {},
   "outputs": [],
   "source": [
    "# Calculate purchase rate by traffic medium\n",
    "purchase_by_medium = (\n",
    "    final_merge.groupby('medium').agg(\n",
    "        sessions=('session_id', 'count'), purchases=('purchased', 'sum')).assign(\n",
    "            purchase_rate=lambda x: x['purchases'] / x['sessions']).reset_index()\n",
    ")"
   ]
  },
  {
   "cell_type": "code",
   "execution_count": 258,
   "id": "1927e599-c51e-4637-a499-5164597ed40a",
   "metadata": {},
   "outputs": [
    {
     "name": "stdout",
     "output_type": "stream",
     "text": [
      "      medium  sessions  purchases  purchase_rate\n",
      "0     (none)    445734       8776       0.019689\n",
      "4        cpm      7506        137       0.018252\n",
      "3        cpc     16049        238       0.014830\n",
      "5    organic    274352       2114       0.007705\n",
      "1  (not set)       149          1       0.006711\n",
      "6   referral    280505        318       0.001134\n",
      "2  affiliate     18724          9       0.000481\n"
     ]
    }
   ],
   "source": [
    "# Filter for top traffic mediums with 100+ sessions\n",
    "purchase_by_medium_filtered = purchase_by_medium[purchase_by_medium['sessions'] >= 100]\n",
    "\n",
    "# Display top traffic mediums by purchase rate\n",
    "print(purchase_by_medium_filtered.sort_values('purchase_rate', ascending=False))"
   ]
  },
  {
   "cell_type": "markdown",
   "id": "3e7f5142-708d-4e89-a884-869d00e1005f",
   "metadata": {},
   "source": [
    "### Purchase Rate by Traffic Source & Traffic Medium"
   ]
  },
  {
   "cell_type": "code",
   "execution_count": 260,
   "id": "07c75cd9-a100-44b0-96e3-4b0de7535fbc",
   "metadata": {},
   "outputs": [],
   "source": [
    "# Calculate purchase rate by both traffic source and traffic medium\n",
    "purchase_by_source_and_medium = (\n",
    "    final_merge.groupby(['source', 'medium']).agg(\n",
    "        sessions=('session_id', 'count'), purchases=('purchased', 'sum')).assign(\n",
    "            purchase_rate=lambda x: x['purchases'] / x['sessions']).reset_index()\n",
    ")"
   ]
  },
  {
   "cell_type": "code",
   "execution_count": 261,
   "id": "0e2a384a-0bd2-499b-8c60-0a3e2d71a4fd",
   "metadata": {},
   "outputs": [
    {
     "data": {
      "text/html": [
       "<div>\n",
       "<style scoped>\n",
       "    .dataframe tbody tr th:only-of-type {\n",
       "        vertical-align: middle;\n",
       "    }\n",
       "\n",
       "    .dataframe tbody tr th {\n",
       "        vertical-align: top;\n",
       "    }\n",
       "\n",
       "    .dataframe thead th {\n",
       "        text-align: right;\n",
       "    }\n",
       "</style>\n",
       "<table border=\"1\" class=\"dataframe\">\n",
       "  <thead>\n",
       "    <tr style=\"text-align: right;\">\n",
       "      <th></th>\n",
       "      <th>source</th>\n",
       "      <th>medium</th>\n",
       "      <th>sessions</th>\n",
       "      <th>purchases</th>\n",
       "      <th>purchase_rate</th>\n",
       "    </tr>\n",
       "  </thead>\n",
       "  <tbody>\n",
       "    <tr>\n",
       "      <th>53</th>\n",
       "      <td>dealspotr.com</td>\n",
       "      <td>referral</td>\n",
       "      <td>643</td>\n",
       "      <td>40</td>\n",
       "      <td>0.062208</td>\n",
       "    </tr>\n",
       "    <tr>\n",
       "      <th>185</th>\n",
       "      <td>mail.google.com</td>\n",
       "      <td>referral</td>\n",
       "      <td>1814</td>\n",
       "      <td>64</td>\n",
       "      <td>0.035281</td>\n",
       "    </tr>\n",
       "    <tr>\n",
       "      <th>134</th>\n",
       "      <td>groups.google.com</td>\n",
       "      <td>referral</td>\n",
       "      <td>1262</td>\n",
       "      <td>39</td>\n",
       "      <td>0.030903</td>\n",
       "    </tr>\n",
       "    <tr>\n",
       "      <th>82</th>\n",
       "      <td>google</td>\n",
       "      <td>cpm</td>\n",
       "      <td>646</td>\n",
       "      <td>16</td>\n",
       "      <td>0.024768</td>\n",
       "    </tr>\n",
       "    <tr>\n",
       "      <th>45</th>\n",
       "      <td>connect.googleforwork.com</td>\n",
       "      <td>referral</td>\n",
       "      <td>122</td>\n",
       "      <td>3</td>\n",
       "      <td>0.024590</td>\n",
       "    </tr>\n",
       "    <tr>\n",
       "      <th>215</th>\n",
       "      <td>phandroid.com</td>\n",
       "      <td>referral</td>\n",
       "      <td>269</td>\n",
       "      <td>6</td>\n",
       "      <td>0.022305</td>\n",
       "    </tr>\n",
       "    <tr>\n",
       "      <th>0</th>\n",
       "      <td>(direct)</td>\n",
       "      <td>(none)</td>\n",
       "      <td>445734</td>\n",
       "      <td>8776</td>\n",
       "      <td>0.019689</td>\n",
       "    </tr>\n",
       "    <tr>\n",
       "      <th>56</th>\n",
       "      <td>dfa</td>\n",
       "      <td>cpm</td>\n",
       "      <td>6858</td>\n",
       "      <td>121</td>\n",
       "      <td>0.017644</td>\n",
       "    </tr>\n",
       "    <tr>\n",
       "      <th>165</th>\n",
       "      <td>l.facebook.com</td>\n",
       "      <td>referral</td>\n",
       "      <td>939</td>\n",
       "      <td>16</td>\n",
       "      <td>0.017039</td>\n",
       "    </tr>\n",
       "    <tr>\n",
       "      <th>81</th>\n",
       "      <td>google</td>\n",
       "      <td>cpc</td>\n",
       "      <td>16048</td>\n",
       "      <td>238</td>\n",
       "      <td>0.014831</td>\n",
       "    </tr>\n",
       "    <tr>\n",
       "      <th>278</th>\n",
       "      <td>yahoo</td>\n",
       "      <td>organic</td>\n",
       "      <td>1770</td>\n",
       "      <td>23</td>\n",
       "      <td>0.012994</td>\n",
       "    </tr>\n",
       "    <tr>\n",
       "      <th>15</th>\n",
       "      <td>ask</td>\n",
       "      <td>organic</td>\n",
       "      <td>315</td>\n",
       "      <td>4</td>\n",
       "      <td>0.012698</td>\n",
       "    </tr>\n",
       "    <tr>\n",
       "      <th>243</th>\n",
       "      <td>sites.google.com</td>\n",
       "      <td>referral</td>\n",
       "      <td>3653</td>\n",
       "      <td>45</td>\n",
       "      <td>0.012319</td>\n",
       "    </tr>\n",
       "    <tr>\n",
       "      <th>24</th>\n",
       "      <td>bing</td>\n",
       "      <td>organic</td>\n",
       "      <td>1847</td>\n",
       "      <td>21</td>\n",
       "      <td>0.011370</td>\n",
       "    </tr>\n",
       "    <tr>\n",
       "      <th>213</th>\n",
       "      <td>outlook.live.com</td>\n",
       "      <td>referral</td>\n",
       "      <td>103</td>\n",
       "      <td>1</td>\n",
       "      <td>0.009709</td>\n",
       "    </tr>\n",
       "  </tbody>\n",
       "</table>\n",
       "</div>"
      ],
      "text/plain": [
       "                        source    medium  sessions  purchases  purchase_rate\n",
       "53               dealspotr.com  referral       643         40       0.062208\n",
       "185            mail.google.com  referral      1814         64       0.035281\n",
       "134          groups.google.com  referral      1262         39       0.030903\n",
       "82                      google       cpm       646         16       0.024768\n",
       "45   connect.googleforwork.com  referral       122          3       0.024590\n",
       "215              phandroid.com  referral       269          6       0.022305\n",
       "0                     (direct)    (none)    445734       8776       0.019689\n",
       "56                         dfa       cpm      6858        121       0.017644\n",
       "165             l.facebook.com  referral       939         16       0.017039\n",
       "81                      google       cpc     16048        238       0.014831\n",
       "278                      yahoo   organic      1770         23       0.012994\n",
       "15                         ask   organic       315          4       0.012698\n",
       "243           sites.google.com  referral      3653         45       0.012319\n",
       "24                        bing   organic      1847         21       0.011370\n",
       "213           outlook.live.com  referral       103          1       0.009709"
      ]
     },
     "execution_count": 261,
     "metadata": {},
     "output_type": "execute_result"
    }
   ],
   "source": [
    "# Filter for top traffic source and medium combinations with 100+ sessions\n",
    "purchase_by_source_and_medium_filtered = purchase_by_source_and_medium[purchase_by_source_and_medium['sessions'] >= 100]\n",
    "\n",
    "# Display top 15 combinations by purchase rate\n",
    "purchase_by_source_and_medium_filtered.sort_values('purchase_rate',ascending=False).head(15)"
   ]
  },
  {
   "cell_type": "markdown",
   "id": "cad63087-8cc0-4c38-86ca-46111d4f40a1",
   "metadata": {},
   "source": [
    "### Purchase Rate by Entry Page"
   ]
  },
  {
   "cell_type": "code",
   "execution_count": 263,
   "id": "4e691dad-d99b-4a41-b6e9-ccff07fee7cc",
   "metadata": {},
   "outputs": [],
   "source": [
    "# Calculate purchase rate by both traffic source and traffic medium\n",
    "purchase_by_entry_page = (\n",
    "    final_merge.groupby('page_path_entry').agg(\n",
    "        sessions=('session_id', 'count'), purchases=('purchased', 'sum')).assign(\n",
    "            purchase_rate=lambda x: x['purchases'] / x['sessions']).reset_index()\n",
    ")"
   ]
  },
  {
   "cell_type": "code",
   "execution_count": 264,
   "id": "a83507ff-dae7-4d75-94ee-67080c8fb95b",
   "metadata": {},
   "outputs": [
    {
     "name": "stdout",
     "output_type": "stream",
     "text": [
      "                        page_path_entry  sessions  purchases  purchase_rate\n",
      "15  /myaccount.html?mode=billingaddress       402         93       0.231343\n",
      "2                          /basket.html     11483        807       0.070278\n",
      "23                       /register.html       240         15       0.062500\n",
      "31                          /store.html      5201        319       0.061334\n",
      "33                      /storeitem.html       141          8       0.056738\n",
      "11                              /home-2      6033        320       0.053042\n",
      "7                     /google redesign/      3147         53       0.016841\n",
      "0                         /asearch.html      3470         47       0.013545\n",
      "28                         /signin.html     19638        207       0.010541\n",
      "10                                /home    707247       6962       0.009844\n",
      "8                     /google+redesign/    282988       2707       0.009566\n",
      "30                     /store-policies/      2274          9       0.003958\n",
      "27                           /shop.axd/       256          0       0.000000\n"
     ]
    }
   ],
   "source": [
    "# Filter for top entry pages with 100+ sessions\n",
    "purchase_by_entry_page_filtered = purchase_by_entry_page[purchase_by_entry_page['sessions'] >= 100]\n",
    "\n",
    "# Display top entry pages by purchase rate\n",
    "print(purchase_by_entry_page_filtered.sort_values('purchase_rate', ascending=False))"
   ]
  },
  {
   "cell_type": "code",
   "execution_count": 265,
   "id": "f60eef8c-22bf-41da-993a-395b8d94c9d2",
   "metadata": {},
   "outputs": [
    {
     "name": "stdout",
     "output_type": "stream",
     "text": [
      "      page_path_entry  sessions  purchases  purchase_rate\n",
      "33    /storeitem.html       141          8       0.056738\n",
      "11            /home-2      6033        320       0.053042\n",
      "7   /google redesign/      3147         53       0.016841\n",
      "0       /asearch.html      3470         47       0.013545\n",
      "28       /signin.html     19638        207       0.010541\n",
      "10              /home    707247       6962       0.009844\n",
      "8   /google+redesign/    282988       2707       0.009566\n",
      "30   /store-policies/      2274          9       0.003958\n",
      "27         /shop.axd/       256          0       0.000000\n"
     ]
    }
   ],
   "source": [
    "# List of checkout-related pages to exclude from results\n",
    "checkout_pages = [\n",
    "    '/yourinfo.html',\n",
    "    '/payment.html',\n",
    "    '/myaccount.html',\n",
    "    '/registersuccess.html',\n",
    "    '/basket.html',\n",
    "    '/store.html',\n",
    "    '/register.html',\n",
    "    '/myaccount.html?mode=billingaddress'\n",
    "]\n",
    "\n",
    "# Filter the DataFrame\n",
    "non_checkout = purchase_by_entry_page_filtered[~purchase_by_entry_page_filtered['page_path_entry'].isin(checkout_pages)]\n",
    "\n",
    "# Display results... top 10 by purchase rate\n",
    "print(non_checkout.sort_values('purchase_rate', ascending=False).head(10))"
   ]
  },
  {
   "cell_type": "markdown",
   "id": "bee10340-78ff-4d23-87fa-e5f702cea3d4",
   "metadata": {},
   "source": [
    "**Note:** The **entry page** is the *very first page* a user lands on when starting a session on the website.\n",
    "> For example, if a user clicks a Google advertisement for a particular product and lands on \"/product/widget.html,\" then this is the entry page for their session."
   ]
  },
  {
   "cell_type": "markdown",
   "id": "7c0d6cc6-3992-4fe3-8d81-d77434b33f97",
   "metadata": {},
   "source": [
    "## 4 Cohorts based on Traffic Medium"
   ]
  },
  {
   "cell_type": "code",
   "execution_count": 268,
   "id": "e7f72ec2-88d6-400c-9b5f-c694fe8ef9fd",
   "metadata": {},
   "outputs": [],
   "source": [
    "# Assign cohorts\n",
    "def medium_cohort(m):\n",
    "    if m == '(none)':\n",
    "        return 'Direct'\n",
    "    elif m in ['cpm', 'cpc']:\n",
    "        return 'Paid'\n",
    "    elif m == 'organic':\n",
    "        return 'Organic'\n",
    "    elif m == 'referral':\n",
    "        return 'Referral'\n",
    "    else:\n",
    "        return 'Other'\n",
    "\n",
    "final_merge['medium_cohort'] = final_merge['medium'].apply(medium_cohort)"
   ]
  },
  {
   "cell_type": "code",
   "execution_count": 269,
   "id": "b0571009-8a91-4801-87fb-4d08808b51bc",
   "metadata": {},
   "outputs": [],
   "source": [
    "# Calculate sessions, purchases, and purchase rate for all cohorts\n",
    "cohort_summary = (\n",
    "    final_merge.groupby('medium_cohort').agg(\n",
    "        sessions=('session_id', 'nunique'), purchases=('purchased', 'sum')).assign(\n",
    "            purchase_rate=lambda x: x['purchases'] / x['sessions']).reset_index()\n",
    ")"
   ]
  },
  {
   "cell_type": "code",
   "execution_count": 270,
   "id": "aafe6baf-0d87-491b-ab2d-96df84795857",
   "metadata": {},
   "outputs": [
    {
     "data": {
      "text/html": [
       "<div>\n",
       "<style scoped>\n",
       "    .dataframe tbody tr th:only-of-type {\n",
       "        vertical-align: middle;\n",
       "    }\n",
       "\n",
       "    .dataframe tbody tr th {\n",
       "        vertical-align: top;\n",
       "    }\n",
       "\n",
       "    .dataframe thead th {\n",
       "        text-align: right;\n",
       "    }\n",
       "</style>\n",
       "<table border=\"1\" class=\"dataframe\">\n",
       "  <thead>\n",
       "    <tr style=\"text-align: right;\">\n",
       "      <th></th>\n",
       "      <th>medium_cohort</th>\n",
       "      <th>sessions</th>\n",
       "      <th>purchases</th>\n",
       "      <th>purchase_rate</th>\n",
       "    </tr>\n",
       "  </thead>\n",
       "  <tbody>\n",
       "    <tr>\n",
       "      <th>0</th>\n",
       "      <td>Direct</td>\n",
       "      <td>366371</td>\n",
       "      <td>8776</td>\n",
       "      <td>0.023954</td>\n",
       "    </tr>\n",
       "    <tr>\n",
       "      <th>3</th>\n",
       "      <td>Paid</td>\n",
       "      <td>18828</td>\n",
       "      <td>375</td>\n",
       "      <td>0.019917</td>\n",
       "    </tr>\n",
       "    <tr>\n",
       "      <th>1</th>\n",
       "      <td>Organic</td>\n",
       "      <td>229609</td>\n",
       "      <td>2114</td>\n",
       "      <td>0.009207</td>\n",
       "    </tr>\n",
       "    <tr>\n",
       "      <th>4</th>\n",
       "      <td>Referral</td>\n",
       "      <td>255297</td>\n",
       "      <td>318</td>\n",
       "      <td>0.001246</td>\n",
       "    </tr>\n",
       "    <tr>\n",
       "      <th>2</th>\n",
       "      <td>Other</td>\n",
       "      <td>16198</td>\n",
       "      <td>10</td>\n",
       "      <td>0.000617</td>\n",
       "    </tr>\n",
       "  </tbody>\n",
       "</table>\n",
       "</div>"
      ],
      "text/plain": [
       "  medium_cohort  sessions  purchases  purchase_rate\n",
       "0        Direct    366371       8776       0.023954\n",
       "3          Paid     18828        375       0.019917\n",
       "1       Organic    229609       2114       0.009207\n",
       "4      Referral    255297        318       0.001246\n",
       "2         Other     16198         10       0.000617"
      ]
     },
     "execution_count": 270,
     "metadata": {},
     "output_type": "execute_result"
    }
   ],
   "source": [
    "# Display cohort summary table\n",
    "cohort_summary.sort_values('purchase_rate', ascending=False)"
   ]
  },
  {
   "cell_type": "code",
   "execution_count": 271,
   "id": "da442858-001b-4cb5-b290-6d2ceea7adf0",
   "metadata": {},
   "outputs": [
    {
     "data": {
      "image/png": "[encoded data removed]",
      "text/plain": [
       "<Figure size 640x480 with 1 Axes>"
      ]
     },
     "metadata": {},
     "output_type": "display_data"
    }
   ],
   "source": [
    "# Plot results\n",
    "plt.bar(cohort_summary['medium_cohort'], cohort_summary['purchase_rate'])\n",
    "plt.title('Purchase Rate by Cohort')\n",
    "plt.xlabel('Cohort')\n",
    "plt.ylabel('Purchase Rate')\n",
    "plt.show()"
   ]
  },
  {
   "cell_type": "markdown",
   "id": "2029f6cd-8c37-4175-9fce-885963a2c5b6",
   "metadata": {},
   "source": [
    "#### Cohort Descriptions\n",
    "\n",
    "- **Direct:**\n",
    "  Users who arrived by typing the website URL *directly* into their browser, using bookmarks, or in ways that bypass any tracked referring site.\n",
    "\n",
    "- **Paid:**\n",
    "  Users who clicked on paid advertisements, such as search engine ads (CPC, CPM) or display ads.\n",
    "\n",
    "- **Organic:**\n",
    "  Users who found the site via unpaid search results, such as Google or Bing.\n",
    "\n",
    "- **Referral:**\n",
    "  Users who accessed the site by clicking a link on a different (non-affiliated) website.\n",
    "\n",
    "- **Other:**\n",
    "  Any remaining traffic not captured by the four main categories above, often including miscategorized, rare, or unknown traffic sources. (This will be filtered out in the final Tableau dashboard.)"
   ]
  },
  {
   "cell_type": "markdown",
   "id": "6d51c1e7-1a5d-42de-9d5f-a19df99b3d78",
   "metadata": {},
   "source": [
    "### Drop-Off % at Each Step... broken down by each cohort"
   ]
  },
  {
   "cell_type": "code",
   "execution_count": 274,
   "id": "b12bdfa9-ae78-4f39-8403-40c950069d19",
   "metadata": {},
   "outputs": [
    {
     "data": {
      "text/html": [
       "<div>\n",
       "<style scoped>\n",
       "    .dataframe tbody tr th:only-of-type {\n",
       "        vertical-align: middle;\n",
       "    }\n",
       "\n",
       "    .dataframe tbody tr th {\n",
       "        vertical-align: top;\n",
       "    }\n",
       "\n",
       "    .dataframe thead th {\n",
       "        text-align: right;\n",
       "    }\n",
       "</style>\n",
       "<table border=\"1\" class=\"dataframe\">\n",
       "  <thead>\n",
       "    <tr style=\"text-align: right;\">\n",
       "      <th></th>\n",
       "      <th>step_number</th>\n",
       "      <th>sessions_remaining</th>\n",
       "      <th>dropoff_pct</th>\n",
       "    </tr>\n",
       "  </thead>\n",
       "  <tbody>\n",
       "    <tr>\n",
       "      <th>0</th>\n",
       "      <td>1</td>\n",
       "      <td>1043019</td>\n",
       "      <td>0.000000</td>\n",
       "    </tr>\n",
       "    <tr>\n",
       "      <th>1</th>\n",
       "      <td>2</td>\n",
       "      <td>504649</td>\n",
       "      <td>0.516165</td>\n",
       "    </tr>\n",
       "    <tr>\n",
       "      <th>2</th>\n",
       "      <td>3</td>\n",
       "      <td>341725</td>\n",
       "      <td>0.322846</td>\n",
       "    </tr>\n",
       "    <tr>\n",
       "      <th>3</th>\n",
       "      <td>4</td>\n",
       "      <td>260166</td>\n",
       "      <td>0.238669</td>\n",
       "    </tr>\n",
       "    <tr>\n",
       "      <th>4</th>\n",
       "      <td>5</td>\n",
       "      <td>210152</td>\n",
       "      <td>0.192239</td>\n",
       "    </tr>\n",
       "    <tr>\n",
       "      <th>...</th>\n",
       "      <td>...</td>\n",
       "      <td>...</td>\n",
       "      <td>...</td>\n",
       "    </tr>\n",
       "    <tr>\n",
       "      <th>495</th>\n",
       "      <td>496</td>\n",
       "      <td>4</td>\n",
       "      <td>0.000000</td>\n",
       "    </tr>\n",
       "    <tr>\n",
       "      <th>496</th>\n",
       "      <td>497</td>\n",
       "      <td>4</td>\n",
       "      <td>0.000000</td>\n",
       "    </tr>\n",
       "    <tr>\n",
       "      <th>497</th>\n",
       "      <td>498</td>\n",
       "      <td>4</td>\n",
       "      <td>0.000000</td>\n",
       "    </tr>\n",
       "    <tr>\n",
       "      <th>498</th>\n",
       "      <td>499</td>\n",
       "      <td>4</td>\n",
       "      <td>0.000000</td>\n",
       "    </tr>\n",
       "    <tr>\n",
       "      <th>499</th>\n",
       "      <td>500</td>\n",
       "      <td>4</td>\n",
       "      <td>0.000000</td>\n",
       "    </tr>\n",
       "  </tbody>\n",
       "</table>\n",
       "<p>500 rows × 3 columns</p>\n",
       "</div>"
      ],
      "text/plain": [
       "     step_number  sessions_remaining  dropoff_pct\n",
       "0              1             1043019     0.000000\n",
       "1              2              504649     0.516165\n",
       "2              3              341725     0.322846\n",
       "3              4              260166     0.238669\n",
       "4              5              210152     0.192239\n",
       "..           ...                 ...          ...\n",
       "495          496                   4     0.000000\n",
       "496          497                   4     0.000000\n",
       "497          498                   4     0.000000\n",
       "498          499                   4     0.000000\n",
       "499          500                   4     0.000000\n",
       "\n",
       "[500 rows x 3 columns]"
      ]
     },
     "execution_count": 274,
     "metadata": {},
     "output_type": "execute_result"
    }
   ],
   "source": [
    "# This DataFrame will be recreated with an appended cohort column\n",
    "step_dropoff"
   ]
  },
  {
   "cell_type": "code",
   "execution_count": 275,
   "id": "0133ef44-f2bf-4042-b7c2-6aef9ba61965",
   "metadata": {},
   "outputs": [],
   "source": [
    "# Extract cohort labels from the final merged dataset\n",
    "cohorts = final_merge['medium_cohort'].unique()"
   ]
  },
  {
   "cell_type": "code",
   "execution_count": 276,
   "id": "b6b2a297-85ef-444a-aaa5-038bc8ca1cf2",
   "metadata": {},
   "outputs": [],
   "source": [
    "# Loop through each cohort and compute the drop-off\n",
    "max_length_ = final_merge['path_length'].max()\n",
    "max_steps = 500\n",
    "step_numbers = list(range(1, max_length_ + 1))\n",
    "results = []\n",
    "\n",
    "for cohort in cohorts:\n",
    "    df = final_merge[final_merge['medium_cohort'] == cohort]\n",
    "    session_lengths_ = df.groupby('session_id')['path_length'].max()\n",
    "    \n",
    "    sessions_at_least_n_ = [(session_lengths_ >= n).sum() for n in range(1, max_length_ + 1)]\n",
    "    dropoff_pct_ = [\n",
    "        1 - (sessions_at_least_n_[n] / sessions_at_least_n_[n-1]) if n > 0 and sessions_at_least_n_[n-1] > 0 else 0 for n in range(len(sessions_at_least_n_))\n",
    "    ]\n",
    "\n",
    "    assert len(sessions_at_least_n_) == max_steps\n",
    "    assert len(dropoff_pct_) == max_steps\n",
    "    \n",
    "    # Create cohort df\n",
    "    cohort_info = pd.DataFrame({\n",
    "        'step_number': step_numbers,\n",
    "        'sessions_remaining_': sessions_at_least_n_,\n",
    "        'dropoff_pct': dropoff_pct_,\n",
    "        'cohort': [cohort] * max_steps\n",
    "    })\n",
    "    results.append(cohort_info)"
   ]
  },
  {
   "cell_type": "code",
   "execution_count": 277,
   "id": "11106b8c-110f-4688-84a4-fd11d2d28e5e",
   "metadata": {},
   "outputs": [
    {
     "data": {
      "text/html": [
       "<div>\n",
       "<style scoped>\n",
       "    .dataframe tbody tr th:only-of-type {\n",
       "        vertical-align: middle;\n",
       "    }\n",
       "\n",
       "    .dataframe tbody tr th {\n",
       "        vertical-align: top;\n",
       "    }\n",
       "\n",
       "    .dataframe thead th {\n",
       "        text-align: right;\n",
       "    }\n",
       "</style>\n",
       "<table border=\"1\" class=\"dataframe\">\n",
       "  <thead>\n",
       "    <tr style=\"text-align: right;\">\n",
       "      <th></th>\n",
       "      <th>step_number</th>\n",
       "      <th>sessions_remaining_</th>\n",
       "      <th>dropoff_pct</th>\n",
       "      <th>cohort</th>\n",
       "    </tr>\n",
       "  </thead>\n",
       "  <tbody>\n",
       "    <tr>\n",
       "      <th>0</th>\n",
       "      <td>1</td>\n",
       "      <td>229609</td>\n",
       "      <td>0.000000</td>\n",
       "      <td>Organic</td>\n",
       "    </tr>\n",
       "    <tr>\n",
       "      <th>1</th>\n",
       "      <td>2</td>\n",
       "      <td>112641</td>\n",
       "      <td>0.509423</td>\n",
       "      <td>Organic</td>\n",
       "    </tr>\n",
       "    <tr>\n",
       "      <th>2</th>\n",
       "      <td>3</td>\n",
       "      <td>82304</td>\n",
       "      <td>0.269325</td>\n",
       "      <td>Organic</td>\n",
       "    </tr>\n",
       "    <tr>\n",
       "      <th>3</th>\n",
       "      <td>4</td>\n",
       "      <td>64150</td>\n",
       "      <td>0.220573</td>\n",
       "      <td>Organic</td>\n",
       "    </tr>\n",
       "    <tr>\n",
       "      <th>4</th>\n",
       "      <td>5</td>\n",
       "      <td>53106</td>\n",
       "      <td>0.172159</td>\n",
       "      <td>Organic</td>\n",
       "    </tr>\n",
       "    <tr>\n",
       "      <th>...</th>\n",
       "      <td>...</td>\n",
       "      <td>...</td>\n",
       "      <td>...</td>\n",
       "      <td>...</td>\n",
       "    </tr>\n",
       "    <tr>\n",
       "      <th>2495</th>\n",
       "      <td>496</td>\n",
       "      <td>0</td>\n",
       "      <td>0.000000</td>\n",
       "      <td>Paid</td>\n",
       "    </tr>\n",
       "    <tr>\n",
       "      <th>2496</th>\n",
       "      <td>497</td>\n",
       "      <td>0</td>\n",
       "      <td>0.000000</td>\n",
       "      <td>Paid</td>\n",
       "    </tr>\n",
       "    <tr>\n",
       "      <th>2497</th>\n",
       "      <td>498</td>\n",
       "      <td>0</td>\n",
       "      <td>0.000000</td>\n",
       "      <td>Paid</td>\n",
       "    </tr>\n",
       "    <tr>\n",
       "      <th>2498</th>\n",
       "      <td>499</td>\n",
       "      <td>0</td>\n",
       "      <td>0.000000</td>\n",
       "      <td>Paid</td>\n",
       "    </tr>\n",
       "    <tr>\n",
       "      <th>2499</th>\n",
       "      <td>500</td>\n",
       "      <td>0</td>\n",
       "      <td>0.000000</td>\n",
       "      <td>Paid</td>\n",
       "    </tr>\n",
       "  </tbody>\n",
       "</table>\n",
       "<p>2500 rows × 4 columns</p>\n",
       "</div>"
      ],
      "text/plain": [
       "      step_number  sessions_remaining_  dropoff_pct   cohort\n",
       "0               1               229609     0.000000  Organic\n",
       "1               2               112641     0.509423  Organic\n",
       "2               3                82304     0.269325  Organic\n",
       "3               4                64150     0.220573  Organic\n",
       "4               5                53106     0.172159  Organic\n",
       "...           ...                  ...          ...      ...\n",
       "2495          496                    0     0.000000     Paid\n",
       "2496          497                    0     0.000000     Paid\n",
       "2497          498                    0     0.000000     Paid\n",
       "2498          499                    0     0.000000     Paid\n",
       "2499          500                    0     0.000000     Paid\n",
       "\n",
       "[2500 rows x 4 columns]"
      ]
     },
     "execution_count": 277,
     "metadata": {},
     "output_type": "execute_result"
    }
   ],
   "source": [
    "# Concatenate and display dropoff % by step (with cohort labels now)\n",
    "cohort_funnel = pd.concat(results, ignore_index=True)\n",
    "cohort_funnel"
   ]
  },
  {
   "cell_type": "markdown",
   "id": "06ae8e78-a790-4361-93a4-0c5e7287816d",
   "metadata": {},
   "source": [
    "### Final Export to Tableau"
   ]
  },
  {
   "cell_type": "code",
   "execution_count": 279,
   "id": "0bcfcd9b-8e1b-487e-8833-88154d16ae21",
   "metadata": {},
   "outputs": [],
   "source": [
    "# Save the two primary DataFrames as CSVs\n",
    "cohort_funnel.to_csv('dropoff_by_cohort.csv', index=False)\n",
    "final_merge.to_csv('final_merged_dataset.csv', index=False)"
   ]
  },
  {
   "cell_type": "markdown",
   "id": "ba287de2-4895-4dd2-a180-6147f14a8150",
   "metadata": {},
   "source": [
    "These two CSVs will be opened in Tableau to create the final dashboard."
   ]
  },
  {
   "cell_type": "code",
   "execution_count": null,
   "id": "70e2b2f0-3adc-49dc-ae23-bb6adb87e52d",
   "metadata": {},
   "outputs": [],
   "source": []
  }
 ],
 "metadata": {
  "kernelspec": {
   "display_name": "Python [conda env:base] *",
   "language": "python",
   "name": "conda-base-py"
  },
  "language_info": {
   "codemirror_mode": {
    "name": "ipython",
    "version": 3
   },
   "file_extension": ".py",
   "mimetype": "text/x-python",
   "name": "python",
   "nbconvert_exporter": "python",
   "pygments_lexer": "ipython3",
   "version": "3.12.7"
  }
 },
 "nbformat": 4,
 "nbformat_minor": 5
}
