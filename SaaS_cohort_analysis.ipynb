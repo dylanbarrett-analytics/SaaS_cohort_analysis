{
 "cells": [
  {
   "cell_type": "markdown",
   "id": "04e48a9d-e1a4-4d64-8462-2ca2c2a3e763",
   "metadata": {},
   "source": [
    "# User Journey Cohort Analysis (Web Session Data)"
   ]
  },
  {
   "cell_type": "code",
   "execution_count": null,
   "id": "72ef9a8f-7bf4-4d1d-ae16-f173bcc97eed",
   "metadata": {},
   "outputs": [],
   "source": [
    "# Import libraries\n",
    "import pandas as pd\n",
    "import matplotlib.pyplot as plt\n",
    "import numpy as np\n",
    "import seaborn as sns"
   ]
  },
  {
   "cell_type": "markdown",
   "id": "e68663f6-ecfa-4297-a7bb-7a769b756907",
   "metadata": {},
   "source": [
    "The original raw dataset for this project actually comes from **Google Analytics (BigQuery)**. It tracks website session data across all user visits for an entire year. This dataset is massive, so only 7 columns were extracted from BigQuery to prevent performance issues. They will be imported into this notebook in the following cell."
   ]
  },
  {
   "cell_type": "code",
   "execution_count": null,
   "id": "86c8563a-d5ad-4f1b-a176-66571ab4b030",
   "metadata": {},
   "outputs": [],
   "source": [
    "# Load data\n",
    "google = pd.read_csv(\"google_merchandise_raw.csv\")"
   ]
  },
  {
   "cell_type": "code",
   "execution_count": null,
   "id": "7d944ae5-a1ad-4299-bd23-47df57c1dc75",
   "metadata": {},
   "outputs": [],
   "source": [
    "# Preview the dataset\n",
    "print(google.head(10))"
   ]
  },
  {
   "cell_type": "markdown",
   "id": "54eff1b0-4722-4268-a1bf-316c807d040b",
   "metadata": {},
   "source": [
    "### Initial Data Checks"
   ]
  },
  {
   "cell_type": "code",
   "execution_count": null,
   "id": "3a63c2d4-a4e0-4944-899d-f5c47346a3db",
   "metadata": {},
   "outputs": [],
   "source": [
    "# Number of rows and columns\n",
    "print(google.shape)"
   ]
  },
  {
   "cell_type": "code",
   "execution_count": null,
   "id": "7aae007d-a88e-41cb-8222-8cec27f811a2",
   "metadata": {},
   "outputs": [],
   "source": [
    "# Rename columns for clarity\n",
    "google = google.rename(columns={\n",
    "    'fullVisitorId': 'user_id',\n",
    "    'visitId': 'session_id',\n",
    "    'visitStartTime': 'session_start_time',\n",
    "    'hitNumber': 'hit_number'\n",
    "})"
   ]
  },
  {
   "cell_type": "code",
   "execution_count": null,
   "id": "227788a1-0e72-4246-a003-5a7e18f4c526",
   "metadata": {},
   "outputs": [],
   "source": [
    "# Check data types\n",
    "print(google.dtypes)"
   ]
  },
  {
   "cell_type": "code",
   "execution_count": null,
   "id": "721df056-73ec-4e35-aa12-1b18f66d36cd",
   "metadata": {},
   "outputs": [],
   "source": [
    "# Convert `session_start_time` from unix to datetime\n",
    "google['session_start_time'] = pd.to_datetime(google['session_start_time'], unit='s')"
   ]
  },
  {
   "cell_type": "code",
   "execution_count": null,
   "id": "593c3865-5425-47d5-b196-c4b91addc1e7",
   "metadata": {},
   "outputs": [],
   "source": [
    "# Convert `hit_type` entries to lowercase\n",
    "google['hit_type'] = google['hit_type'].str.lower()"
   ]
  },
  {
   "cell_type": "code",
   "execution_count": null,
   "id": "96794dee-5bc0-46f1-8a17-21996d6c80f7",
   "metadata": {},
   "outputs": [],
   "source": [
    "# Number of unique users\n",
    "unique_users = google['user_id'].nunique()\n",
    "print(f'Number of Unique Users: {unique_users}')"
   ]
  },
  {
   "cell_type": "code",
   "execution_count": null,
   "id": "55b7f88f-e0f3-4c7c-8d4d-8f325943204c",
   "metadata": {},
   "outputs": [],
   "source": [
    "# Number of unique sessions\n",
    "unique_sessions = google['session_id'].nunique()\n",
    "print(f'Number of Unique Sessions: {unique_sessions}')"
   ]
  },
  {
   "cell_type": "code",
   "execution_count": null,
   "id": "d0420bc1-30d6-41f5-b005-4a6a694a2b61",
   "metadata": {},
   "outputs": [],
   "source": [
    "# Missing values by column\n",
    "missing_values = google.isnull().sum()\n",
    "print(f'Number of Missing Values (per column): \\n{missing_values}')"
   ]
  },
  {
   "cell_type": "code",
   "execution_count": null,
   "id": "0a105148-4d26-4bad-85b7-065e5bb5f8de",
   "metadata": {},
   "outputs": [],
   "source": [
    "# Duplicate rows\n",
    "duplicates = google[google.duplicated()]\n",
    "print(f'Number of Duplicate Rows: {len(duplicates)}')"
   ]
  },
  {
   "cell_type": "code",
   "execution_count": null,
   "id": "e1910b22-8d62-4204-a5a1-4f0de5c05dbe",
   "metadata": {},
   "outputs": [],
   "source": [
    "# Date range\n",
    "start = google['session_start_time'].min()\n",
    "end = google['session_start_time'].max()\n",
    "print(f'Date Range: {start} thru {end}')"
   ]
  },
  {
   "cell_type": "markdown",
   "id": "ddcc57c9-7339-43e5-bd8d-7f98b86bdfbc",
   "metadata": {},
   "source": [
    "### Initial cleaning done... ready for analysis\n",
    "\n",
    "- **Rows:** 4,153,675\n",
    "- **Columns:** 7\n",
    "- **Unique Users:** 843,049\n",
    "- **Unique Sessions:** 886,303\n",
    "- **Missing Values:**\n",
    "  - `revenue`: 4,141,602 🆗\n",
    "- **Duplicate Rows:** 0 ✅\n",
    "- **Date Range:** Aug 1, 2016 - Aug 2, 2017\n",
    "\n",
    "The `revenue` column will **not** be used in this analysis, so these missing values are irrelevant."
   ]
  },
  {
   "cell_type": "markdown",
   "id": "c22e8b06-5452-4e63-be32-1975b1e091a4",
   "metadata": {},
   "source": [
    "# Analysis"
   ]
  },
  {
   "cell_type": "markdown",
   "id": "d6bdc071-daa3-4cc4-bec3-f2d750737674",
   "metadata": {},
   "source": [
    "### Purchase Rate by Path"
   ]
  },
  {
   "cell_type": "code",
   "execution_count": null,
   "id": "23b4b6d8-ec95-4d35-b1ec-1bca3b5e2c3b",
   "metadata": {},
   "outputs": [],
   "source": [
    "# Build path lists for every session\n",
    "session_paths = (\n",
    "    google.sort_values(['user_id', 'session_id', 'hit_number']).groupby(['user_id', 'session_id'])['page_path'].apply(list).reset_index(name='path')\n",
    ")"
   ]
  },
  {
   "cell_type": "code",
   "execution_count": null,
   "id": "d1092059-c7ae-4663-8f75-b041b7e17f7f",
   "metadata": {},
   "outputs": [],
   "source": [
    "# Convert lists to strings\n",
    "session_paths['path_strings'] = session_paths['path'].apply(lambda x: ' / '.join(x))"
   ]
  },
  {
   "cell_type": "code",
   "execution_count": null,
   "id": "33bffe81-0299-4f61-97c5-69c70fcc7937",
   "metadata": {},
   "outputs": [],
   "source": [
    "# Number of unique paths\n",
    "unique_path_count = session_paths['path_strings'].nunique()\n",
    "print(f'Number of Unique Paths: {unique_path_count}')"
   ]
  },
  {
   "cell_type": "code",
   "execution_count": null,
   "id": "a8ffc6f2-1f96-4eb5-ab10-dc452af73d59",
   "metadata": {},
   "outputs": [],
   "source": [
    "# Top 10 paths taken\n",
    "top_paths = session_paths['path_strings'].value_counts().head(10)\n",
    "print(top_paths)"
   ]
  },
  {
   "cell_type": "code",
   "execution_count": null,
   "id": "9b56fe88-ca05-48c9-9bdd-d0ce37c45dec",
   "metadata": {},
   "outputs": [],
   "source": [
    "# Path frequency\n",
    "path_frequency = session_paths['path_strings'].value_counts().reset_index()\n",
    "path_frequency.columns = ['path', 'frequency']"
   ]
  },
  {
   "cell_type": "code",
   "execution_count": null,
   "id": "d34b8e0e-9094-4c6b-8baa-4189b5da0749",
   "metadata": {},
   "outputs": [],
   "source": [
    "# Set a 'purchased' flag... either 'purchase' or 'no purchase'\n",
    "purchased = google.groupby(['user_id', 'session_id'])['revenue'].max().notnull().astype(int).reset_index(name='purchased')"
   ]
  },
  {
   "cell_type": "code",
   "execution_count": null,
   "id": "d4673db3-be02-4b83-8b2b-38358e8b5bbd",
   "metadata": {},
   "outputs": [],
   "source": [
    "# Merge with session_paths df\n",
    "paths_with_purchase = session_paths.merge(purchased, on=['user_id', 'session_id'])"
   ]
  },
  {
   "cell_type": "code",
   "execution_count": null,
   "id": "23f2e603-8f4c-4cca-8fe4-b46536bb73d0",
   "metadata": {},
   "outputs": [],
   "source": [
    "# Find purchase rate for every path\n",
    "path_stats = (\n",
    "    paths_with_purchase.groupby('path_strings').agg(\n",
    "        frequency=('path_strings', 'size'), purchases=('purchased', 'sum')).assign(\n",
    "            purchase_rate=lambda df: df['purchases'] / df['frequency']\n",
    "    ).reset_index()\n",
    ")"
   ]
  },
  {
   "cell_type": "code",
   "execution_count": null,
   "id": "4d96929b-2c70-4115-a822-8295165c47a7",
   "metadata": {},
   "outputs": [],
   "source": [
    "# Display top 10 paths according to purchase rate\n",
    "print(path_stats.sort_values('purchase_rate', ascending=False).head(10))"
   ]
  },
  {
   "cell_type": "markdown",
   "id": "0afca75e-6744-47e1-8b67-e930df72f7c3",
   "metadata": {},
   "source": [
    "**Note:** Overall, purchases are rare. The vast majority of paths are simply browsing and searching, etc. Therefore, only paths with **at least 1 purchase** will be explored next."
   ]
  },
  {
   "cell_type": "code",
   "execution_count": null,
   "id": "78460613-4fd2-4fe3-8177-ebe3558dfa32",
   "metadata": {},
   "outputs": [],
   "source": [
    "# Filter for paths with at least 1 purchase\n",
    "purchases_only = path_stats[path_stats['purchases'] >= 1].sort_values('purchases', ascending=False)"
   ]
  },
  {
   "cell_type": "code",
   "execution_count": null,
   "id": "d9fcb2f0-c8c2-4c01-9082-eb161c09a6b6",
   "metadata": {},
   "outputs": [],
   "source": [
    "# Preview paths with at least 1 purchase\n",
    "print(purchases_only.head(10))"
   ]
  },
  {
   "cell_type": "markdown",
   "id": "076d42b8-afd4-46aa-8050-93aacbe67b54",
   "metadata": {},
   "source": [
    "### Purchase Rate by Path Length"
   ]
  },
  {
   "cell_type": "code",
   "execution_count": null,
   "id": "b7af6151-ae68-4b12-a446-0bb5eda80e8f",
   "metadata": {},
   "outputs": [],
   "source": [
    "# Calculate path length for every session\n",
    "session_paths['path_length'] = session_paths['path'].apply(len)"
   ]
  },
  {
   "cell_type": "code",
   "execution_count": null,
   "id": "611b28ed-514f-421e-a06b-842cfdcca09e",
   "metadata": {},
   "outputs": [],
   "source": [
    "# Merge with 'purchased' flag\n",
    "session_paths = session_paths.merge(purchased, on=['user_id', 'session_id'])"
   ]
  },
  {
   "cell_type": "code",
   "execution_count": null,
   "id": "9e334690-44f5-4de4-a7e5-d6c698d5efb4",
   "metadata": {},
   "outputs": [],
   "source": [
    "# Path length value counts\n",
    "print(session_paths['path_length'].value_counts().sort_index())"
   ]
  },
  {
   "cell_type": "code",
   "execution_count": null,
   "id": "3bb0e642-fdc7-495c-a597-d3adcaf06f4e",
   "metadata": {},
   "outputs": [],
   "source": [
    "# Histogram ^\n",
    "\n",
    "plt.figure(figsize=(10,5))\n",
    "plt.hist(session_paths['path_length'], bins=range(1, session_paths['path_length'].max()+2), edgecolor='cyan')\n",
    "plt.title('Distribution of Path Lengths')\n",
    "plt.xlabel('Path Length (Number of Steps)')\n",
    "plt.ylabel('Number of Sessions')\n",
    "plt.yscale('log')\n",
    "plt.show()"
   ]
  },
  {
   "cell_type": "markdown",
   "id": "715d39e4-7201-44f1-92f5-44e1da345028",
   "metadata": {},
   "source": [
    "**Note:** A **log scale** was applied to the y-axis here because as path length (number of steps) increases, the number of sessions has an extreme drop off. Most y-axis values are quite small, so the *very few* large y-axis values would dominate this histogram without the log application."
   ]
  },
  {
   "cell_type": "code",
   "execution_count": null,
   "id": "96827fa4-c463-495d-8c63-047acd7b6c83",
   "metadata": {},
   "outputs": [],
   "source": [
    "# Put all path lengths into buckets\n",
    "bins = [1, 2, 3, 4, 6, 11, 21, 51, session_paths['path_length'].max() + 1]\n",
    "labels = ['1', '2', '3', '4-5', '6-10', '11-20', '21-50', '51+']\n",
    "\n",
    "# New buckets column\n",
    "session_paths['path_length_bucket'] = pd.cut(session_paths['path_length'], bins=bins, labels=labels, right=False)"
   ]
  },
  {
   "cell_type": "code",
   "execution_count": null,
   "id": "41a8699c-67f2-497e-ae01-79c5b3a586b9",
   "metadata": {},
   "outputs": [],
   "source": [
    "# Calculate purchase rate by bucket\n",
    "purchase_by_bucket = (\n",
    "    session_paths.groupby('path_length_bucket').agg(\n",
    "        sessions=('path_length', 'count'), purchases=('purchased', 'sum')).assign(\n",
    "        purchase_rate=lambda x: x['purchases'] / x['sessions']).reset_index()\n",
    ")"
   ]
  },
  {
   "cell_type": "code",
   "execution_count": null,
   "id": "e990b61f-d399-45fa-a148-3a2c35c3d81e",
   "metadata": {},
   "outputs": [],
   "source": [
    "# Find % of total purchases\n",
    "total_purchases = purchase_by_bucket['purchases'].sum()\n",
    "\n",
    "purchase_by_bucket['pct_of_total_purchases'] = (purchase_by_bucket['purchases'] / total_purchases * 100).round(2)"
   ]
  },
  {
   "cell_type": "code",
   "execution_count": null,
   "id": "601e4d1f-3960-428f-999d-2e5e875cd18d",
   "metadata": {},
   "outputs": [],
   "source": [
    "# Display purchase rate by bucket\n",
    "print(purchase_by_bucket)\n",
    "\n",
    "# Plot results\n",
    "plt.figure(figsize=(8,5))\n",
    "plt.bar(purchase_by_bucket['path_length_bucket'], purchase_by_bucket['purchase_rate'])\n",
    "plt.title('Purchase Rate by Path Length Bucket')\n",
    "plt.xlabel('Path Length Bucket')\n",
    "plt.ylabel('Purchase Rate')\n",
    "plt.ylim(0, purchase_by_bucket['purchase_rate'].max() * 1.1)  # adjusted scale\n",
    "plt.grid(axis='y')\n",
    "plt.show()"
   ]
  },
  {
   "cell_type": "markdown",
   "id": "f1148448-eda9-4e49-856a-71906ac162d9",
   "metadata": {},
   "source": [
    "**Results:** Sessions with **more steps** (i.e., longer user journeys) are far more likely to **result in a purchase** than shorter sessions."
   ]
  },
  {
   "cell_type": "markdown",
   "id": "32bc60e3-fc9c-47d0-8bd7-69bc84468d6d",
   "metadata": {},
   "source": [
    "### Drop-Off % at Each Step"
   ]
  },
  {
   "cell_type": "code",
   "execution_count": null,
   "id": "fc8d7e11-6316-4d46-a476-0d65a511e87b",
   "metadata": {},
   "outputs": [],
   "source": [
    "# Calculate number of sessions that reach each step number (i.e., Step 1, Step 2, ...), generally speaking\n",
    "session_lengths = session_paths['path_length']\n",
    "max_length = session_lengths.max()"
   ]
  },
  {
   "cell_type": "code",
   "execution_count": null,
   "id": "47e93fd1-4db0-4add-ba09-bcc5074c3f44",
   "metadata": {},
   "outputs": [],
   "source": [
    "# For each step n, count number of sessions that made it to step n or further\n",
    "sessions_at_least_n = [(session_lengths >= n).sum() for n in range(1, max_length + 1)]"
   ]
  },
  {
   "cell_type": "code",
   "execution_count": null,
   "id": "68a02686-6f71-4caa-a725-bb56102f6d59",
   "metadata": {},
   "outputs": [],
   "source": [
    "# Calculate drop-off percentage between steps\n",
    "dropoff_pct = [\n",
    "    1 - (sessions_at_least_n[n] / sessions_at_least_n[n-1]) if n > 0 else 0 for n in range(len(sessions_at_least_n))\n",
    "]"
   ]
  },
  {
   "cell_type": "code",
   "execution_count": null,
   "id": "4d05972e-dc5d-4b0a-8467-aa0b03b6ff68",
   "metadata": {},
   "outputs": [],
   "source": [
    "# Create DataFrame\n",
    "step_dropoff = pd.DataFrame({\n",
    "    'step_number': range(1, len(sessions_at_least_n) + 1),\n",
    "    'sessions_remaining': sessions_at_least_n,\n",
    "    'dropoff_pct': dropoff_pct\n",
    "})"
   ]
  },
  {
   "cell_type": "code",
   "execution_count": null,
   "id": "8cd848be-79d3-4e19-b1c4-b6fc60cdda3e",
   "metadata": {},
   "outputs": [],
   "source": [
    "# Preview drop-off % at each step... first 20 steps\n",
    "print(step_dropoff.head(20))\n",
    "\n",
    "# Plot results for all steps\n",
    "plt.figure(figsize=(10,6))\n",
    "plt.plot(step_dropoff['step_number'], step_dropoff['sessions_remaining'], marker='o')\n",
    "plt.title('User Survival Curve: Sessions Remaining at Each Step')\n",
    "plt.xlabel('Step Number')\n",
    "plt.ylabel(\"Sessions That Haven't Ended Yet\")\n",
    "plt.yscale('log')\n",
    "plt.grid(True, which='both', axis='y', linestyle='--', linewidth=0.5)\n",
    "plt.tight_layout()\n",
    "plt.show()"
   ]
  },
  {
   "cell_type": "markdown",
   "id": "31e6c298-80bf-4045-b417-7da50b3833ec",
   "metadata": {},
   "source": [
    "**Note:** A **log scale** was applied to the y-axis here because most y-axis values are small. The *very few* large y-axis values would dominate this plot without the log application.\n",
    "\n",
    "**Results:** **Over 50%** of **user sessions** conclude at the end of step 1. Most user sessions are rather short. Extended user sessions are relatively rare, but as seen in Purchase Rate by Pair Length Bucket, the **longer** a session, the more likely it will **result in a purchase**."
   ]
  },
  {
   "cell_type": "markdown",
   "id": "101dc89d-5133-4511-aecb-d1c43859fad1",
   "metadata": {},
   "source": [
    "### Cohort Analysis... additional columns import from BigQuery"
   ]
  },
  {
   "cell_type": "markdown",
   "id": "1459025f-7a73-4eac-a624-fc299d1424ae",
   "metadata": {},
   "source": [
    "After the initial export to Tableau, the \"big picture\" analysis fell short, in my opinion. Therefore, 4 new columns were extracted (plus the primary key column) from the raw dataset in BigQuery. This slices the notebook's primary dataset into **4 separate cohorts** based on **how users accessed the site**. The import will take place in the next cell below."
   ]
  },
  {
   "cell_type": "code",
   "execution_count": null,
   "id": "c276f2a6-02e6-4eda-a579-861e1c9cd2b1",
   "metadata": {},
   "outputs": [],
   "source": [
    "# Load data\n",
    "google_2 = pd.read_csv(\"google_merchandise_cohort_columns.csv\")"
   ]
  },
  {
   "cell_type": "code",
   "execution_count": null,
   "id": "64228c63-3062-43c9-8d03-e72edb3cd7cf",
   "metadata": {},
   "outputs": [],
   "source": [
    "# Rename columns for clarity\n",
    "google_2 = google_2.rename(columns={\n",
    "    'visitId': 'session_id',\n",
    "    'pagePath': 'page_path',\n",
    "    'pagePathLevel1': 'page_path_entry'\n",
    "})  "
   ]
  },
  {
   "cell_type": "code",
   "execution_count": null,
   "id": "0c7b240b-2479-4150-bbeb-d1f5930c455d",
   "metadata": {},
   "outputs": [],
   "source": [
    "# Remove duplicate rows\n",
    "google_2_entry = google_2.drop_duplicates(subset='session_id', keep='first')"
   ]
  },
  {
   "cell_type": "code",
   "execution_count": null,
   "id": "ddeb3226-9457-4756-a41b-e28aa32636da",
   "metadata": {},
   "outputs": [],
   "source": [
    "# Merge with session_paths (session-level data already here in the Jupyter notebook)\n",
    "final_merge = session_paths.merge(google_2_entry, on='session_id', how='left')"
   ]
  },
  {
   "cell_type": "code",
   "execution_count": null,
   "id": "ac96098b-7193-48af-b8e0-3afcf6549be4",
   "metadata": {},
   "outputs": [],
   "source": [
    "# Preview final merged dataset\n",
    "final_merge.head(10)"
   ]
  },
  {
   "cell_type": "code",
   "execution_count": null,
   "id": "23b12c1e-6d46-4b6d-8e59-91fab18f902f",
   "metadata": {},
   "outputs": [],
   "source": [
    "# Number of rows and columns\n",
    "print(final_merge.shape)"
   ]
  },
  {
   "cell_type": "code",
   "execution_count": null,
   "id": "78acf877-31ef-42c0-af95-83ce87fa3fd2",
   "metadata": {},
   "outputs": [],
   "source": [
    "# Confirm number of unique sessions\n",
    "unique_sessions_final = final_merge['session_id'].nunique()\n",
    "print(f'Number of Unique Sessions: {unique_sessions}')"
   ]
  },
  {
   "cell_type": "markdown",
   "id": "05b4aa22-8b02-4f4c-88ec-adef65cc0539",
   "metadata": {},
   "source": [
    "### Purchase Rate by Traffic Source"
   ]
  },
  {
   "cell_type": "code",
   "execution_count": null,
   "id": "99a5e844-f07d-4bce-94a9-bf22ceb6d9c7",
   "metadata": {},
   "outputs": [],
   "source": [
    "# Calculate purchase rate by traffic source\n",
    "purchase_by_source = (\n",
    "    final_merge.groupby('source').agg(\n",
    "        sessions=('session_id', 'count'), purchases=('purchased', 'sum')).assign(\n",
    "        purchase_rate=lambda x: x['purchases'] / x['sessions']).reset_index()\n",
    ")"
   ]
  },
  {
   "cell_type": "code",
   "execution_count": null,
   "id": "82662877-2acf-4850-94b6-12cc20bda776",
   "metadata": {},
   "outputs": [],
   "source": [
    "# Summary stats for number of sessions\n",
    "summary = purchase_by_source['sessions'].describe()\n",
    "print(summary.apply(lambda x: f'{x:,.0f}'))"
   ]
  },
  {
   "cell_type": "code",
   "execution_count": null,
   "id": "a7309aa1-51d8-4c41-94e9-774dfd4aab83",
   "metadata": {},
   "outputs": [],
   "source": [
    "# Filter for top 20 traffic sources with 100+ sessions\n",
    "purchase_by_source_filtered = purchase_by_source[purchase_by_source['sessions'] >= 100]\n",
    "\n",
    "# Display top 20 traffic sources by purchase rate\n",
    "print(purchase_by_source_filtered.sort_values('purchase_rate', ascending=False).head(20))"
   ]
  },
  {
   "cell_type": "markdown",
   "id": "e1f2bee6-635c-4e12-b850-ae00fbf9cb17",
   "metadata": {},
   "source": [
    "### Purchase Rate by Traffic Medium"
   ]
  },
  {
   "cell_type": "code",
   "execution_count": null,
   "id": "a5d47628-eaf2-4be1-bd38-07745aa0b955",
   "metadata": {},
   "outputs": [],
   "source": [
    "# Calculate purchase rate by traffic medium\n",
    "purchase_by_medium = (\n",
    "    final_merge.groupby('medium').agg(\n",
    "        sessions=('session_id', 'count'), purchases=('purchased', 'sum')).assign(\n",
    "            purchase_rate=lambda x: x['purchases'] / x['sessions']).reset_index()\n",
    ")"
   ]
  },
  {
   "cell_type": "code",
   "execution_count": null,
   "id": "1927e599-c51e-4637-a499-5164597ed40a",
   "metadata": {},
   "outputs": [],
   "source": [
    "# Filter for top traffic mediums with 100+ sessions\n",
    "purchase_by_medium_filtered = purchase_by_medium[purchase_by_medium['sessions'] >= 100]\n",
    "\n",
    "# Display top traffic mediums by purchase rate\n",
    "print(purchase_by_medium_filtered.sort_values('purchase_rate', ascending=False))"
   ]
  },
  {
   "cell_type": "markdown",
   "id": "3e7f5142-708d-4e89-a884-869d00e1005f",
   "metadata": {},
   "source": [
    "### Purchase Rate by Traffic Source & Traffic Medium"
   ]
  },
  {
   "cell_type": "code",
   "execution_count": null,
   "id": "07c75cd9-a100-44b0-96e3-4b0de7535fbc",
   "metadata": {},
   "outputs": [],
   "source": [
    "# Calculate purchase rate by both traffic source and traffic medium\n",
    "purchase_by_source_and_medium = (\n",
    "    final_merge.groupby(['source', 'medium']).agg(\n",
    "        sessions=('session_id', 'count'), purchases=('purchased', 'sum')).assign(\n",
    "            purchase_rate=lambda x: x['purchases'] / x['sessions']).reset_index()\n",
    ")"
   ]
  },
  {
   "cell_type": "code",
   "execution_count": null,
   "id": "0e2a384a-0bd2-499b-8c60-0a3e2d71a4fd",
   "metadata": {},
   "outputs": [],
   "source": [
    "# Filter for top traffic source and medium combinations with 100+ sessions\n",
    "purchase_by_source_and_medium_filtered = purchase_by_source_and_medium[purchase_by_source_and_medium['sessions'] >= 100]\n",
    "\n",
    "# Display top 15 combinations by purchase rate\n",
    "purchase_by_source_and_medium_filtered.sort_values('purchase_rate',ascending=False).head(15)"
   ]
  },
  {
   "cell_type": "markdown",
   "id": "cad63087-8cc0-4c38-86ca-46111d4f40a1",
   "metadata": {},
   "source": [
    "### Purchase Rate by Entry Page"
   ]
  },
  {
   "cell_type": "code",
   "execution_count": null,
   "id": "4e691dad-d99b-4a41-b6e9-ccff07fee7cc",
   "metadata": {},
   "outputs": [],
   "source": [
    "# Calculate purchase rate by both traffic source and traffic medium\n",
    "purchase_by_entry_page = (\n",
    "    final_merge.groupby('page_path_entry').agg(\n",
    "        sessions=('session_id', 'count'), purchases=('purchased', 'sum')).assign(\n",
    "            purchase_rate=lambda x: x['purchases'] / x['sessions']).reset_index()\n",
    ")"
   ]
  },
  {
   "cell_type": "code",
   "execution_count": null,
   "id": "a83507ff-dae7-4d75-94ee-67080c8fb95b",
   "metadata": {},
   "outputs": [],
   "source": [
    "# Filter for top entry pages with 100+ sessions\n",
    "purchase_by_entry_page_filtered = purchase_by_entry_page[purchase_by_entry_page['sessions'] >= 100]\n",
    "\n",
    "# Display top entry pages by purchase rate\n",
    "print(purchase_by_entry_page_filtered.sort_values('purchase_rate', ascending=False))"
   ]
  },
  {
   "cell_type": "code",
   "execution_count": null,
   "id": "f60eef8c-22bf-41da-993a-395b8d94c9d2",
   "metadata": {},
   "outputs": [],
   "source": [
    "# List of checkout-related pages to exclude from results\n",
    "checkout_pages = [\n",
    "    '/yourinfo.html',\n",
    "    '/payment.html',\n",
    "    '/myaccount.html',\n",
    "    '/registersuccess.html',\n",
    "    '/basket.html',\n",
    "    '/store.html',\n",
    "    '/register.html',\n",
    "    '/myaccount.html?mode=billingaddress'\n",
    "]\n",
    "\n",
    "# Filter the DataFrame\n",
    "non_checkout = purchase_by_entry_page_filtered[~purchase_by_entry_page_filtered['page_path_entry'].isin(checkout_pages)]\n",
    "\n",
    "# Display results... top 10 by purchase rate\n",
    "print(non_checkout.sort_values('purchase_rate', ascending=False).head(10))"
   ]
  },
  {
   "cell_type": "markdown",
   "id": "bee10340-78ff-4d23-87fa-e5f702cea3d4",
   "metadata": {},
   "source": [
    "**Note:** The **entry page** is the *very first page* a user lands on when starting a session on the website.\n",
    "> For example, if a user clicks a Google advertisement for a particular product and lands on \"/product/widget.html,\" then this is the entry page for their session."
   ]
  },
  {
   "cell_type": "markdown",
   "id": "7c0d6cc6-3992-4fe3-8d81-d77434b33f97",
   "metadata": {},
   "source": [
    "## 4 Cohorts based on Traffic Medium"
   ]
  },
  {
   "cell_type": "code",
   "execution_count": null,
   "id": "e7f72ec2-88d6-400c-9b5f-c694fe8ef9fd",
   "metadata": {},
   "outputs": [],
   "source": [
    "# Assign cohorts\n",
    "def medium_cohort(m):\n",
    "    if m == '(none)':\n",
    "        return 'Direct'\n",
    "    elif m in ['cpm', 'cpc']:\n",
    "        return 'Paid'\n",
    "    elif m == 'organic':\n",
    "        return 'Organic'\n",
    "    elif m == 'referral':\n",
    "        return 'Referral'\n",
    "    else:\n",
    "        return 'Other'\n",
    "\n",
    "final_merge['medium_cohort'] = final_merge['medium'].apply(medium_cohort)"
   ]
  },
  {
   "cell_type": "code",
   "execution_count": null,
   "id": "b0571009-8a91-4801-87fb-4d08808b51bc",
   "metadata": {},
   "outputs": [],
   "source": [
    "# Calculate sessions, purchases, and purchase rate for all cohorts\n",
    "cohort_summary = (\n",
    "    final_merge.groupby('medium_cohort').agg(\n",
    "        sessions=('session_id', 'nunique'), purchases=('purchased', 'sum')).assign(\n",
    "            purchase_rate=lambda x: x['purchases'] / x['sessions']).reset_index()\n",
    ")"
   ]
  },
  {
   "cell_type": "code",
   "execution_count": null,
   "id": "aafe6baf-0d87-491b-ab2d-96df84795857",
   "metadata": {},
   "outputs": [],
   "source": [
    "# Display cohort summary table\n",
    "cohort_summary.sort_values('purchase_rate', ascending=False)"
   ]
  },
  {
   "cell_type": "code",
   "execution_count": null,
   "id": "da442858-001b-4cb5-b290-6d2ceea7adf0",
   "metadata": {},
   "outputs": [],
   "source": [
    "# Plot results\n",
    "plt.bar(cohort_summary['medium_cohort'], cohort_summary['purchase_rate'])\n",
    "plt.title('Purchase Rate by Cohort')\n",
    "plt.xlabel('Cohort')\n",
    "plt.ylabel('Purchase Rate')\n",
    "plt.show()"
   ]
  },
  {
   "cell_type": "markdown",
   "id": "2029f6cd-8c37-4175-9fce-885963a2c5b6",
   "metadata": {},
   "source": [
    "#### Cohort Descriptions\n",
    "\n",
    "- **Direct:**\n",
    "  Users who arrived by typing the website URL *directly* into their browser, using bookmarks, or in ways that bypass any tracked referring site.\n",
    "\n",
    "- **Paid:**\n",
    "  Users who clicked on paid advertisements, such as search engine ads (CPC, CPM) or display ads.\n",
    "\n",
    "- **Organic:**\n",
    "  Users who found the site via unpaid search results, such as Google or Bing.\n",
    "\n",
    "- **Referral:**\n",
    "  Users who accessed the site by clicking a link on a different (non-affiliated) website.\n",
    "\n",
    "- **Other:**\n",
    "  Any remaining traffic not captured by the four main categories above, often including miscategorized, rare, or unknown traffic sources. (This will be filtered out in the final Tableau dashboard.)"
   ]
  },
  {
   "cell_type": "markdown",
   "id": "6d51c1e7-1a5d-42de-9d5f-a19df99b3d78",
   "metadata": {},
   "source": [
    "### Drop-Off % at Each Step... broken down by each cohort"
   ]
  },
  {
   "cell_type": "code",
   "execution_count": null,
   "id": "b12bdfa9-ae78-4f39-8403-40c950069d19",
   "metadata": {},
   "outputs": [],
   "source": [
    "# This DataFrame will be recreated with an appended cohort column\n",
    "step_dropoff"
   ]
  },
  {
   "cell_type": "code",
   "execution_count": null,
   "id": "0133ef44-f2bf-4042-b7c2-6aef9ba61965",
   "metadata": {},
   "outputs": [],
   "source": [
    "# Extract cohort labels from the final merged dataset\n",
    "cohorts = final_merge['medium_cohort'].unique()"
   ]
  },
  {
   "cell_type": "code",
   "execution_count": null,
   "id": "b6b2a297-85ef-444a-aaa5-038bc8ca1cf2",
   "metadata": {},
   "outputs": [],
   "source": [
    "# Loop through each cohort and compute the drop-off\n",
    "max_length_ = final_merge['path_length'].max()\n",
    "max_steps = 500\n",
    "step_numbers = list(range(1, max_length_ + 1))\n",
    "results = []\n",
    "\n",
    "for cohort in cohorts:\n",
    "    df = final_merge[final_merge['medium_cohort'] == cohort]\n",
    "    session_lengths_ = df.groupby('session_id')['path_length'].max()\n",
    "    \n",
    "    sessions_at_least_n_ = [(session_lengths_ >= n).sum() for n in range(1, max_length_ + 1)]\n",
    "    dropoff_pct_ = [\n",
    "        1 - (sessions_at_least_n_[n] / sessions_at_least_n_[n-1]) if n > 0 and sessions_at_least_n_[n-1] > 0 else 0 for n in range(len(sessions_at_least_n_))\n",
    "    ]\n",
    "\n",
    "    assert len(sessions_at_least_n_) == max_steps\n",
    "    assert len(dropoff_pct_) == max_steps\n",
    "    \n",
    "    # Create cohort df\n",
    "    cohort_info = pd.DataFrame({\n",
    "        'step_number': step_numbers,\n",
    "        'sessions_remaining_': sessions_at_least_n_,\n",
    "        'dropoff_pct': dropoff_pct_,\n",
    "        'cohort': [cohort] * max_steps\n",
    "    })\n",
    "    results.append(cohort_info)"
   ]
  },
  {
   "cell_type": "code",
   "execution_count": null,
   "id": "11106b8c-110f-4688-84a4-fd11d2d28e5e",
   "metadata": {},
   "outputs": [],
   "source": [
    "# Concatenate and display dropoff % by step (with cohort labels now)\n",
    "cohort_funnel = pd.concat(results, ignore_index=True)\n",
    "cohort_funnel"
   ]
  },
  {
   "cell_type": "markdown",
   "id": "06ae8e78-a790-4361-93a4-0c5e7287816d",
   "metadata": {},
   "source": [
    "### Final Export to Tableau"
   ]
  },
  {
   "cell_type": "code",
   "execution_count": null,
   "id": "0bcfcd9b-8e1b-487e-8833-88154d16ae21",
   "metadata": {},
   "outputs": [],
   "source": [
    "# Save the two primary DataFrames as CSVs\n",
    "cohort_funnel.to_csv('dropoff_by_cohort.csv', index=False)\n",
    "final_merge.to_csv('final_merged_dataset.csv', index=False)"
   ]
  },
  {
   "cell_type": "markdown",
   "id": "ba287de2-4895-4dd2-a180-6147f14a8150",
   "metadata": {},
   "source": [
    "These two CSVs will be opened in Tableau to create the final dashboard."
   ]
  }
 ],
 "metadata": {
  "kernelspec": {
   "display_name": "Python [conda env:base] *",
   "language": "python",
   "name": "conda-base-py"
  },
  "language_info": {
   "codemirror_mode": {
    "name": "ipython",
    "version": 3
   },
   "file_extension": ".py",
   "mimetype": "text/x-python",
   "name": "python",
   "nbconvert_exporter": "python",
   "pygments_lexer": "ipython3",
   "version": "3.12.7"
  }
 },
 "nbformat": 4,
 "nbformat_minor": 5
}
